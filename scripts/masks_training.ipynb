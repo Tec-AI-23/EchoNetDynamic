{
 "cells": [
  {
   "cell_type": "code",
   "execution_count": 1,
   "metadata": {},
   "outputs": [],
   "source": [
    "import torch\n",
    "import albumentations as A\n",
    "from albumentations.pytorch import ToTensorV2\n",
    "import torch.nn as nn\n",
    "import torch.optim as optim\n",
    "from model import UNET\n",
    "from dataloader import get_loaders_masks\n",
    "import FILE_PATHS\n",
    "\n",
    "from utils import (\n",
    "    load_checkpoint,\n",
    "    save_checkpoint,\n",
    "    check_accuracy,\n",
    "    save_predictions_as_imgs,\n",
    "    train_fn,\n",
    ")"
   ]
  },
  {
   "cell_type": "code",
   "execution_count": 2,
   "metadata": {},
   "outputs": [],
   "source": [
    "# Hyperparameters\n",
    "LEARNING_RATE = 1e-4\n",
    "DEVICE = \"cuda\" if torch.cuda.is_available() else \"cpu\"\n",
    "BATCH_SIZE = 64\n",
    "NUM_EPOCHS = 5\n",
    "NUM_WORKERS = 2\n",
    "IMAGE_HEIGHT = 112\n",
    "IMAGE_WIDTH = 112\n",
    "PIN_MEMORY = True\n",
    "LOAD_MODEL = False"
   ]
  },
  {
   "cell_type": "code",
   "execution_count": 3,
   "metadata": {},
   "outputs": [
    {
     "data": {
      "text/plain": [
       "'cuda'"
      ]
     },
     "execution_count": 3,
     "metadata": {},
     "output_type": "execute_result"
    }
   ],
   "source": [
    "DEVICE"
   ]
  },
  {
   "cell_type": "code",
   "execution_count": 4,
   "metadata": {},
   "outputs": [],
   "source": [
    "# Transformations\n",
    "train_transforms = A.Compose(\n",
    "    [\n",
    "        A.Resize(height=IMAGE_HEIGHT, width=IMAGE_WIDTH),\n",
    "        # A.Rotate(limit=35, p=1.0),\n",
    "        # A.HorizontalFlip(p=0.5),\n",
    "        # A.VerticalFlip(p=0.1),\n",
    "        A.Normalize(\n",
    "            mean=[0.0, 0.0, 0.0],\n",
    "            std=[1.0, 1.0, 1.0],\n",
    "            max_pixel_value=255.0,\n",
    "        ),\n",
    "        ToTensorV2(),\n",
    "    ]\n",
    ")\n",
    "\n",
    "val_transforms = A.Compose(\n",
    "    [\n",
    "        A.Resize(height=IMAGE_HEIGHT, width=IMAGE_WIDTH),\n",
    "        A.Normalize(\n",
    "            mean=[0.0, 0.0, 0.0],\n",
    "            std=[1.0, 1.0, 1.0],\n",
    "            max_pixel_value=255.0,\n",
    "        ),\n",
    "        ToTensorV2(),\n",
    "    ]\n",
    ")"
   ]
  },
  {
   "cell_type": "code",
   "execution_count": 5,
   "metadata": {},
   "outputs": [],
   "source": [
    "# MODEL\n",
    "model = UNET(in_channels=3, out_channels=1).to(DEVICE)\n",
    "loss_fn = nn.BCEWithLogitsLoss()\n",
    "optimizer = optim.Adam(model.parameters(), lr=LEARNING_RATE)\n",
    "model_type = \"masks\""
   ]
  },
  {
   "cell_type": "code",
   "execution_count": 6,
   "metadata": {},
   "outputs": [
    {
     "name": "stdout",
     "output_type": "stream",
     "text": [
      "TRAIN PATHS LENGTHS: images, masks\n",
      "16, 16\n",
      "VALIDATION PATHS LENGTHS: images, masks\n",
      "4, 4\n"
     ]
    }
   ],
   "source": [
    "# BATCHES\n",
    "\n",
    "train_loader, val_loader = get_loaders_masks(\n",
    "    FILE_PATHS.IMAGES,\n",
    "    FILE_PATHS.MASKS,\n",
    "    BATCH_SIZE,\n",
    "    train_transforms,\n",
    "    val_transforms,\n",
    "    NUM_WORKERS,\n",
    "    test_size=0.2,\n",
    "    seed=42,\n",
    ")"
   ]
  },
  {
   "cell_type": "code",
   "execution_count": 7,
   "metadata": {},
   "outputs": [
    {
     "name": "stderr",
     "output_type": "stream",
     "text": [
      "100%|██████████| 1/1 [00:19<00:00, 19.08s/it, loss=0.869]\n"
     ]
    },
    {
     "ename": "AttributeError",
     "evalue": "'str' object has no attribute 'to'",
     "output_type": "error",
     "traceback": [
      "\u001b[1;31m---------------------------------------------------------------------------\u001b[0m",
      "\u001b[1;31mAttributeError\u001b[0m                            Traceback (most recent call last)",
      "\u001b[1;32mc:\\Users\\cm_cj\\Desktop\\Tec\\AI\\EchoNetDynamic\\scripts\\masks_training.ipynb Cell 7\u001b[0m line \u001b[0;36m3\n\u001b[0;32m     <a href='vscode-notebook-cell:/c%3A/Users/cm_cj/Desktop/Tec/AI/EchoNetDynamic/scripts/masks_training.ipynb#W2sZmlsZQ%3D%3D?line=23'>24</a>\u001b[0m         save_predictions_as_imgs(\n\u001b[0;32m     <a href='vscode-notebook-cell:/c%3A/Users/cm_cj/Desktop/Tec/AI/EchoNetDynamic/scripts/masks_training.ipynb#W2sZmlsZQ%3D%3D?line=24'>25</a>\u001b[0m             val_loader, model, folder\u001b[39m=\u001b[39mpath, device\u001b[39m=\u001b[39mDEVICE, model_type\u001b[39m=\u001b[39mmodel_type\n\u001b[0;32m     <a href='vscode-notebook-cell:/c%3A/Users/cm_cj/Desktop/Tec/AI/EchoNetDynamic/scripts/masks_training.ipynb#W2sZmlsZQ%3D%3D?line=25'>26</a>\u001b[0m         )\n\u001b[0;32m     <a href='vscode-notebook-cell:/c%3A/Users/cm_cj/Desktop/Tec/AI/EchoNetDynamic/scripts/masks_training.ipynb#W2sZmlsZQ%3D%3D?line=28'>29</a>\u001b[0m \u001b[39mif\u001b[39;00m \u001b[39m__name__\u001b[39m \u001b[39m==\u001b[39m \u001b[39m\"\u001b[39m\u001b[39m__main__\u001b[39m\u001b[39m\"\u001b[39m:\n\u001b[1;32m---> <a href='vscode-notebook-cell:/c%3A/Users/cm_cj/Desktop/Tec/AI/EchoNetDynamic/scripts/masks_training.ipynb#W2sZmlsZQ%3D%3D?line=29'>30</a>\u001b[0m     main()\n",
      "\u001b[1;32mc:\\Users\\cm_cj\\Desktop\\Tec\\AI\\EchoNetDynamic\\scripts\\masks_training.ipynb Cell 7\u001b[0m line \u001b[0;36m1\n\u001b[0;32m     <a href='vscode-notebook-cell:/c%3A/Users/cm_cj/Desktop/Tec/AI/EchoNetDynamic/scripts/masks_training.ipynb#W2sZmlsZQ%3D%3D?line=10'>11</a>\u001b[0m checkpoint \u001b[39m=\u001b[39m {\n\u001b[0;32m     <a href='vscode-notebook-cell:/c%3A/Users/cm_cj/Desktop/Tec/AI/EchoNetDynamic/scripts/masks_training.ipynb#W2sZmlsZQ%3D%3D?line=11'>12</a>\u001b[0m     \u001b[39m\"\u001b[39m\u001b[39mstate_dict\u001b[39m\u001b[39m\"\u001b[39m: model\u001b[39m.\u001b[39mstate_dict(),\n\u001b[0;32m     <a href='vscode-notebook-cell:/c%3A/Users/cm_cj/Desktop/Tec/AI/EchoNetDynamic/scripts/masks_training.ipynb#W2sZmlsZQ%3D%3D?line=12'>13</a>\u001b[0m     \u001b[39m\"\u001b[39m\u001b[39moptimizer\u001b[39m\u001b[39m\"\u001b[39m: optimizer\u001b[39m.\u001b[39mstate_dict(),\n\u001b[0;32m     <a href='vscode-notebook-cell:/c%3A/Users/cm_cj/Desktop/Tec/AI/EchoNetDynamic/scripts/masks_training.ipynb#W2sZmlsZQ%3D%3D?line=13'>14</a>\u001b[0m }\n\u001b[0;32m     <a href='vscode-notebook-cell:/c%3A/Users/cm_cj/Desktop/Tec/AI/EchoNetDynamic/scripts/masks_training.ipynb#W2sZmlsZQ%3D%3D?line=14'>15</a>\u001b[0m \u001b[39m# por mientras no guardamos el modelo\u001b[39;00m\n\u001b[0;32m     <a href='vscode-notebook-cell:/c%3A/Users/cm_cj/Desktop/Tec/AI/EchoNetDynamic/scripts/masks_training.ipynb#W2sZmlsZQ%3D%3D?line=15'>16</a>\u001b[0m \u001b[39m# save_checkpoint(checkpoint)\u001b[39;00m\n\u001b[0;32m     <a href='vscode-notebook-cell:/c%3A/Users/cm_cj/Desktop/Tec/AI/EchoNetDynamic/scripts/masks_training.ipynb#W2sZmlsZQ%3D%3D?line=16'>17</a>\u001b[0m \n\u001b[0;32m     <a href='vscode-notebook-cell:/c%3A/Users/cm_cj/Desktop/Tec/AI/EchoNetDynamic/scripts/masks_training.ipynb#W2sZmlsZQ%3D%3D?line=17'>18</a>\u001b[0m \u001b[39m# check accuracy\u001b[39;00m\n\u001b[1;32m---> <a href='vscode-notebook-cell:/c%3A/Users/cm_cj/Desktop/Tec/AI/EchoNetDynamic/scripts/masks_training.ipynb#W2sZmlsZQ%3D%3D?line=18'>19</a>\u001b[0m check_accuracy(val_loader, model, device\u001b[39m=\u001b[39;49mDEVICE, model_type\u001b[39m=\u001b[39;49mmodel_type)\n\u001b[0;32m     <a href='vscode-notebook-cell:/c%3A/Users/cm_cj/Desktop/Tec/AI/EchoNetDynamic/scripts/masks_training.ipynb#W2sZmlsZQ%3D%3D?line=20'>21</a>\u001b[0m path \u001b[39m=\u001b[39m \u001b[39mf\u001b[39m\u001b[39m\"\u001b[39m\u001b[39m../saved_images/epoch_\u001b[39m\u001b[39m{\u001b[39;00mepoch\u001b[39m}\u001b[39;00m\u001b[39m\"\u001b[39m\n\u001b[0;32m     <a href='vscode-notebook-cell:/c%3A/Users/cm_cj/Desktop/Tec/AI/EchoNetDynamic/scripts/masks_training.ipynb#W2sZmlsZQ%3D%3D?line=22'>23</a>\u001b[0m \u001b[39m# Save predictions\u001b[39;00m\n",
      "File \u001b[1;32mc:\\Users\\cm_cj\\Desktop\\Tec\\AI\\EchoNetDynamic\\scripts\\utils.py:124\u001b[0m, in \u001b[0;36mcheck_accuracy\u001b[1;34m(loader, model, model_type, device)\u001b[0m\n\u001b[0;32m    122\u001b[0m \u001b[39mwith\u001b[39;00m torch\u001b[39m.\u001b[39mno_grad():\n\u001b[0;32m    123\u001b[0m     \u001b[39mfor\u001b[39;00m x, y \u001b[39min\u001b[39;00m loader:\n\u001b[1;32m--> 124\u001b[0m         x \u001b[39m=\u001b[39m x\u001b[39m.\u001b[39;49mto(device)\n\u001b[0;32m    125\u001b[0m         y \u001b[39m=\u001b[39m y\u001b[39m.\u001b[39mto(device)\u001b[39m.\u001b[39munsqueeze(\u001b[39m1\u001b[39m)\n\u001b[0;32m    126\u001b[0m         preds \u001b[39m=\u001b[39m torch\u001b[39m.\u001b[39msigmoid(model(x))\n",
      "\u001b[1;31mAttributeError\u001b[0m: 'str' object has no attribute 'to'"
     ]
    }
   ],
   "source": [
    "def main():\n",
    "    if LOAD_MODEL:\n",
    "        load_checkpoint(torch.load(\"my_checkpoint.pth.tar\"), model)\n",
    "\n",
    "    scaler = torch.cuda.amp.GradScaler()\n",
    "\n",
    "    for epoch in range(NUM_EPOCHS):\n",
    "        train_fn(train_loader, model, optimizer, loss_fn, scaler, DEVICE, model_type)\n",
    "\n",
    "        # save model\n",
    "        checkpoint = {\n",
    "            \"state_dict\": model.state_dict(),\n",
    "            \"optimizer\": optimizer.state_dict(),\n",
    "        }\n",
    "        # por mientras no guardamos el modelo\n",
    "        # save_checkpoint(checkpoint)\n",
    "\n",
    "        # check accuracy\n",
    "        check_accuracy(val_loader, model, device=DEVICE, model_type=model_type)\n",
    "\n",
    "        path = f\"../saved_images/epoch_{epoch}\"\n",
    "\n",
    "        # Save predictions\n",
    "        save_predictions_as_imgs(\n",
    "            val_loader, model, folder=path, device=DEVICE, model_type=model_type\n",
    "        )\n",
    "\n",
    "\n",
    "if __name__ == \"__main__\":\n",
    "    main()"
   ]
  }
 ],
 "metadata": {
  "kernelspec": {
   "display_name": "pytorch",
   "language": "python",
   "name": "python3"
  },
  "language_info": {
   "codemirror_mode": {
    "name": "ipython",
    "version": 3
   },
   "file_extension": ".py",
   "mimetype": "text/x-python",
   "name": "python",
   "nbconvert_exporter": "python",
   "pygments_lexer": "ipython3",
   "version": "3.10.13"
  },
  "orig_nbformat": 4
 },
 "nbformat": 4,
 "nbformat_minor": 2
}
