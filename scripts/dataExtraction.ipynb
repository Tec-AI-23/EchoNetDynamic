{
 "cells": [
  {
   "cell_type": "markdown",
   "metadata": {},
   "source": [
    "# Libraries\n"
   ]
  },
  {
   "cell_type": "code",
   "execution_count": 2,
   "metadata": {},
   "outputs": [],
   "source": [
    "import pandas as pd\n",
    "import os\n",
    "import matplotlib.pyplot as plt\n",
    "from frameExtraction import FrameExtraction\n",
    "from heatmapGeneration import HeatmapGeneration\n",
    "import visualization\n",
    "from masks import Mask\n",
    "import torch\n",
    "import FILE_PATHS"
   ]
  },
  {
   "cell_type": "markdown",
   "metadata": {},
   "source": [
    "# Paths\n"
   ]
  },
  {
   "cell_type": "code",
   "execution_count": 3,
   "metadata": {},
   "outputs": [],
   "source": [
    "videos_csv = f\"{FILE_PATHS.ECHONET}/VolumeTracings.csv\"\n",
    "images_csv = f\"{FILE_PATHS.ECHONET}/images_info.csv\"\n",
    "images_path = FILE_PATHS.IMAGES\n",
    "videos_path = FILE_PATHS.VIDEOS\n",
    "masks_path = FILE_PATHS.MASKS\n",
    "heatmaps_path = FILE_PATHS.HEATMAPS"
   ]
  },
  {
   "cell_type": "markdown",
   "metadata": {},
   "source": [
    "## Create data directories"
   ]
  },
  {
   "cell_type": "code",
   "execution_count": 4,
   "metadata": {},
   "outputs": [],
   "source": [
    "folders = [\n",
    "    videos_path,\n",
    "    images_path,\n",
    "    masks_path,\n",
    "    f\"{heatmaps_path}/gaussian\",\n",
    "    f\"{heatmaps_path}/euclidean\",\n",
    "]\n",
    "\n",
    "for folder in folders:\n",
    "    if not os.path.exists(folder):\n",
    "        os.makedirs(folder)"
   ]
  },
  {
   "cell_type": "markdown",
   "metadata": {},
   "source": [
    "# Save labeled frames\n"
   ]
  },
  {
   "cell_type": "code",
   "execution_count": 5,
   "metadata": {},
   "outputs": [
    {
     "data": {
      "text/html": [
       "<div>\n",
       "<style scoped>\n",
       "    .dataframe tbody tr th:only-of-type {\n",
       "        vertical-align: middle;\n",
       "    }\n",
       "\n",
       "    .dataframe tbody tr th {\n",
       "        vertical-align: top;\n",
       "    }\n",
       "\n",
       "    .dataframe thead th {\n",
       "        text-align: right;\n",
       "    }\n",
       "</style>\n",
       "<table border=\"1\" class=\"dataframe\">\n",
       "  <thead>\n",
       "    <tr style=\"text-align: right;\">\n",
       "      <th></th>\n",
       "      <th>FileName</th>\n",
       "      <th>X1</th>\n",
       "      <th>Y1</th>\n",
       "      <th>X2</th>\n",
       "      <th>Y2</th>\n",
       "      <th>Frame</th>\n",
       "    </tr>\n",
       "  </thead>\n",
       "  <tbody>\n",
       "    <tr>\n",
       "      <th>0</th>\n",
       "      <td>0X100009310A3BD7FC.avi</td>\n",
       "      <td>51.260417</td>\n",
       "      <td>15.348958</td>\n",
       "      <td>64.932292</td>\n",
       "      <td>69.125000</td>\n",
       "      <td>46</td>\n",
       "    </tr>\n",
       "    <tr>\n",
       "      <th>1</th>\n",
       "      <td>0X100009310A3BD7FC.avi</td>\n",
       "      <td>50.037611</td>\n",
       "      <td>17.167841</td>\n",
       "      <td>53.367222</td>\n",
       "      <td>16.321330</td>\n",
       "      <td>46</td>\n",
       "    </tr>\n",
       "    <tr>\n",
       "      <th>2</th>\n",
       "      <td>0X100009310A3BD7FC.avi</td>\n",
       "      <td>49.157378</td>\n",
       "      <td>20.407629</td>\n",
       "      <td>57.090549</td>\n",
       "      <td>18.390722</td>\n",
       "      <td>46</td>\n",
       "    </tr>\n",
       "    <tr>\n",
       "      <th>3</th>\n",
       "      <td>0X100009310A3BD7FC.avi</td>\n",
       "      <td>48.538173</td>\n",
       "      <td>23.581055</td>\n",
       "      <td>59.997339</td>\n",
       "      <td>20.667707</td>\n",
       "      <td>46</td>\n",
       "    </tr>\n",
       "    <tr>\n",
       "      <th>4</th>\n",
       "      <td>0X100009310A3BD7FC.avi</td>\n",
       "      <td>47.918968</td>\n",
       "      <td>26.754480</td>\n",
       "      <td>62.904129</td>\n",
       "      <td>22.944693</td>\n",
       "      <td>46</td>\n",
       "    </tr>\n",
       "  </tbody>\n",
       "</table>\n",
       "</div>"
      ],
      "text/plain": [
       "                 FileName         X1         Y1         X2         Y2  Frame\n",
       "0  0X100009310A3BD7FC.avi  51.260417  15.348958  64.932292  69.125000     46\n",
       "1  0X100009310A3BD7FC.avi  50.037611  17.167841  53.367222  16.321330     46\n",
       "2  0X100009310A3BD7FC.avi  49.157378  20.407629  57.090549  18.390722     46\n",
       "3  0X100009310A3BD7FC.avi  48.538173  23.581055  59.997339  20.667707     46\n",
       "4  0X100009310A3BD7FC.avi  47.918968  26.754480  62.904129  22.944693     46"
      ]
     },
     "execution_count": 5,
     "metadata": {},
     "output_type": "execute_result"
    }
   ],
   "source": [
    "video_info = pd.read_csv(videos_csv)\n",
    "video_info.head()"
   ]
  },
  {
   "cell_type": "markdown",
   "metadata": {},
   "source": [
    "The FrameExtraction class simply extracts specific frames based on 'VolumeTracings.cvs' and save a .csv with all the landmarks or an specific number of them, it depends of 'num_landmarks' param.\n"
   ]
  },
  {
   "cell_type": "code",
   "execution_count": 6,
   "metadata": {},
   "outputs": [
    {
     "name": "stdout",
     "output_type": "stream",
     "text": [
      "¡Extraction Done!\n",
      "Path images: ../EchoNet-Dynamic/data/images\n",
      "Path df: ../EchoNet-Dynamic/images_info.csv\n"
     ]
    }
   ],
   "source": [
    "extraction = FrameExtraction(video_info=video_info)\n",
    "extraction.save_images()"
   ]
  },
  {
   "cell_type": "code",
   "execution_count": 8,
   "metadata": {},
   "outputs": [
    {
     "data": {
      "text/html": [
       "<div>\n",
       "<style scoped>\n",
       "    .dataframe tbody tr th:only-of-type {\n",
       "        vertical-align: middle;\n",
       "    }\n",
       "\n",
       "    .dataframe tbody tr th {\n",
       "        vertical-align: top;\n",
       "    }\n",
       "\n",
       "    .dataframe thead th {\n",
       "        text-align: right;\n",
       "    }\n",
       "</style>\n",
       "<table border=\"1\" class=\"dataframe\">\n",
       "  <thead>\n",
       "    <tr style=\"text-align: right;\">\n",
       "      <th></th>\n",
       "      <th>File</th>\n",
       "      <th>X</th>\n",
       "      <th>Y</th>\n",
       "    </tr>\n",
       "  </thead>\n",
       "  <tbody>\n",
       "    <tr>\n",
       "      <th>0</th>\n",
       "      <td>0X100009310A3BD7FC_46.png</td>\n",
       "      <td>49</td>\n",
       "      <td>41</td>\n",
       "    </tr>\n",
       "    <tr>\n",
       "      <th>1</th>\n",
       "      <td>0X100009310A3BD7FC_46.png</td>\n",
       "      <td>48</td>\n",
       "      <td>38</td>\n",
       "    </tr>\n",
       "    <tr>\n",
       "      <th>2</th>\n",
       "      <td>0X100009310A3BD7FC_46.png</td>\n",
       "      <td>48</td>\n",
       "      <td>35</td>\n",
       "    </tr>\n",
       "    <tr>\n",
       "      <th>3</th>\n",
       "      <td>0X100009310A3BD7FC_46.png</td>\n",
       "      <td>48</td>\n",
       "      <td>32</td>\n",
       "    </tr>\n",
       "    <tr>\n",
       "      <th>4</th>\n",
       "      <td>0X100009310A3BD7FC_46.png</td>\n",
       "      <td>47</td>\n",
       "      <td>29</td>\n",
       "    </tr>\n",
       "  </tbody>\n",
       "</table>\n",
       "</div>"
      ],
      "text/plain": [
       "                        File   X   Y\n",
       "0  0X100009310A3BD7FC_46.png  49  41\n",
       "1  0X100009310A3BD7FC_46.png  48  38\n",
       "2  0X100009310A3BD7FC_46.png  48  35\n",
       "3  0X100009310A3BD7FC_46.png  48  32\n",
       "4  0X100009310A3BD7FC_46.png  47  29"
      ]
     },
     "execution_count": 8,
     "metadata": {},
     "output_type": "execute_result"
    }
   ],
   "source": [
    "frame_info = pd.read_csv(images_csv)\n",
    "frame_info.head()"
   ]
  },
  {
   "cell_type": "code",
   "execution_count": 7,
   "metadata": {},
   "outputs": [
    {
     "data": {
      "image/png": "iVBORw0KGgoAAAANSUhEUgAAAboAAAG6CAYAAAB+94OFAAAAOXRFWHRTb2Z0d2FyZQBNYXRwbG90bGliIHZlcnNpb24zLjcuMywgaHR0cHM6Ly9tYXRwbG90bGliLm9yZy/OQEPoAAAACXBIWXMAAA9hAAAPYQGoP6dpAABPDElEQVR4nO2dadBd1XWmlxCjEBpAA5pnJGEkBjHJGJAtCLgwNjgx6djOVLE7Tsdx2S7HTpUTOimnKh3TTneSsuPYrpTT7aRsgytgGwPGYCYhBEJCE5LQPE8IIUYjIdQ/0nW01nO/u/d3dO8nfdr3fX6dVfveM+yzz9n3rnevtfocPnz4sAkhhBCFctLxPgEhhBCiJ9FEJ4QQomg00QkhhCgaTXRCCCGKRhOdEEKIotFEJ4QQomg00QkhhCgaTXRCCCGKRhOdEEKIojm5ux/s06dPT56HEB0DnyUmJ6rTzs++88476YP3bd7U/1C0+Sv4Ldj+yL9K7NfMrM+h1Psj/Xv78EmHku0nJy757eQ3RQl0J7mX/tEJIYQoGk10QgghiqbbrkshRHugq+Wkk+LvTbofU67MnNuz4djW/RzuX/zcF4L9lf/1P7EvB98k8hmKXoT+0QkhhCgaTXRCCCGKRhOdEEKIopFGJ8Qxpm/fuBb/0KH08nnqcCeffOSxffvttBjWoAe6Q/FX7uf+y8eDvX/DxmDP+/F/BPuGD95abb91IHkaZgltMPcSOvhOWnd8u09Cd1RZaWH6RyeEEKJwNNEJIYQomj6HuxNWbsqMIsSxIufa9M9iNx/fCv/Llk/0J+feEOzTTz892NNmXRDs3bt3V9v//TvfDm2Hka2kTyJ7ycmpdC1mdtAy2V7kuuxolBlFCCFEx6OJTgghRNFoohNCCFE00uiEOM7kUoCl8KEGZo16Hh/vU9x2XzzSV44aHezZs2cHe8Sk8cEePfrI55e8uD20/dVf/W2wUzJa34xG93ZOozspsfPud6U4QZFGJ4QQouPRRCeEEKJoNNEJIYQoGqUAE+IYQ727rv7tP88UYNT7Gsr4JPa7euvWYE9ycXJmZm8iGO6JJ56otu98cj7OI+77cDrLmRA9iv7RCSGEKBpNdEIIIYpGE50QQoiiURydEL0M6mykTpwd99Xn5CPfPXQwfrYf3gQ8CgsCneoU/jfRRk0unY4y827JNSdeYUp1WT6KoxNCCNHxaKITQghRNAovEOIYU9c1yTRfvv2SSy4JbStWrAj2W2+9FXfu3ZVwCR7KeIB41gecL/Mw9tWHWb3ShdCF6FH0j04IIUTRaKITQghRNJrohBBCFI3CC4ToJv4Z4PNQZ8l/neN0Zffte0QAO3gwxghk9T+/L54zn3G2n4R2/+rgcfHddHhBa6SuWFV6ykfhBUIIIToeTXRCCCGKRhOdEEKIolEcnRDdxGsB1AWojdH25XRyejf33b9//2C/8cYbTY9DrTCp2Z1ySrQPHIh2Q60danauPaf3dW8pgBA9gv7RCSGEKBpNdEIIIYpGE50QQoiiURyd6Fg4pvkopOLZ2hk3R0aPHh3sbdu2Nf1s7vFtvMYjv237nhQTUvZ5B7V1QF+Lnz9kRz7/dkM0XM4+Qqu/thUr19kojk4IIUTHo4lOCCFE0WiiE0IIUTSKoxMdS863n4qVY3watbBDhw41bed3L7jggmC/9NJLwT7jjDOC7ePocnkxSR/32/YQNDm+DE7C72CvyTXCvuR5KI5OHD/0j04IIUTRaKITQghRNAovEOL/48vfmDW6H1PkQhVOPvmIY/D6668PbevXr0/ue/v27U3bXn311e6e4n+eh/tt+w4W5p/U4G6McBm/d22+nV3kf/ThBbkX1OHUactjWjwKLxBCCNHxaKITQghRNJrohBBCFI00OiG6iQ8LYAow6ntekzOLab0GDRoU2hg+sGXLlmD7cAIzs9NOO63a/uxnPxva/v3f/z3Yy5YtC/Y7B4+UC5pxwYzQ9r5r3ps8r//xta8G+7ATwKjQndw3Xv/bhw5aM6TRiVaQRieEEKLj0UQnhBCiaDTRCSGEKBppdKJjYSou6m51yvRQkzv11FODPXTo0Kbf5Xm88sorwWY8n//+a6+9ljxnPt7Dh55tzXijb/zugAEDgn3lZVcG+0d33VVt9z2Aczzc/eI5SY3NLKuz9UnE/x2WSFc80uiEEEJ0PJrohBBCFI0mOiGEEEUjjU6IJqT0LupqEydOTH7Xx8JRo2O+Sup91Ow8uXi+hvY+R67hEGS0w6fH79pB5Po8KbaffuaZ1fZbL8dz7IvPsiRQOK40OtEC0uiEEEJ0PJrohBBCFI1cl6LX48dequp3V+3dHN5dkgo/GD58eGjbvXt3sPm8eHfkwYPN02F1BZf5e1dnLszh7bfftmaccsopweZ55aqX+/O67LLLQtvDDz8c7Dolj3JhH7n2Op/118TrS+23q8+3Mtbq0aKvtzDkuhRCCNHxaKITQghRNJrohBBCFI00OtHrSWl0deDS+zq6kZnZuHHjqu1NmzaFtv79+webJW72799fbY8fPz60nX12TMu1Zs2aYL/88svB9roTr4k6G3WmVP9xX4T91a9fv2p77ty5oe2tt94K9i9+8Yum55W7L3V0x9y+qNl97Wtfq7b/9E//tNvH6WpfOU2vfUij80ijE0II0fFoohNCCFE0muiEEEIUjTQ60etIaTJsowbD4VxH36PmQp3t9ddfr7bPdOmvzBq1IcbZ+bI9559/fmh79NFHg3366acHm3qXj6N78803Q9ukSZOCvXfv3mB7vY/nnItBZOmhESNGVNuzZs0KbXxfrFixItjPP/+8NSMXn9ZK/Nrhwyx5dGSb/ZF756ViOntWr0trqWb1tOcTHWl0QgghOh5NdEIIIYpGE50QQoiikUYneh3tjE+qo9GNHDky2Dt27Ai2zw1JjY6xcHPmzAn2iy++WG3/6le/Cm0HDhxo+lkzs507dwbba3Ys8cO8mIyr8+WCcjFnAwcODDaP5fuL50ydcdiwYcH2OuVPf/rT5HnwvqXOO58nM5jWt++Re8r7wHdeLjfosUManUcanRBCiI5HE50QQoii0UQnhBCiaE7Of0SIY0sdTY6aTGpf1Fw++9nPBvuf/umfgn3WWWcF28fznXvuuaGN9gc/+MFg+/psK1euDG3Lly8PNuPmBg8e3LSdOTZfe+21YKf0i9NOOy15XJ+f06xRd/PaIfuW+TkZZzd69Ohqm3GFS5cuDXauTpzX7HL5Szm03nnniM7WEJ/3DuL3MNaOX67LY3WcctA/OiGEEEWjiU4IIUTRyHUpeh11Ujzl0lZ5WIaF4QNMceXL0JjFMj10tzEE4KGHHgr2FVdcUW3nltMzrZdPPWYWl/1ziTuXwKeWzPtQg67gfeCxUm5Chlts2LAh2I899li1PWrUqND2mc98Jtj/+I//GGzeY38ePGd6tt95h+PlyDb7jq7Kw3BN9jmJxzpWKcBEXfSPTgghRNFoohNCCFE0muiEEEIUjTQ6cdypo8nVLdHy5S9/udrmMv4HHngg2F6DM2tM8zVlypRqe9CgQcnvXnnllcH2Ohu1v40bNwaby9Z5Hj6EgPvyIRBm6f7hd6nncV8pTY4hEDxnX9LHzGzMmDHV9tixY0Mb79Nv/dZvBfuHP/xh0/Nk3/GcmcnQj6fGlF7U4GLqrV/+8pfBfu9732uid6J/dEIIIYpGE50QQoii0UQnhBCiaKTRieNOTmdLxSexZMtXvvKVYHutaMuWLaFt2rRpwfa6kZnZ5s2bg71kyZJqm5rcJz/5yWBT/1q8eHG1zTRd1JWoFVHv8n1AHY1pvJi2y3+e8Xq8DyefHF8PPJY/73379iXPg3ht7E/+5E9CG0v+MN7PxySamX3+85+vtnMpwBqHWvOx1xea3KF34r7f9773BdvHR9588wdqnofoSfSPTgghRNFoohNCCFE0muiEEEIUjTQ60SNQO/PaCTWpXL7KVN7Av/mbvwk2Y9ImT55cbVM3u+qqq4Kd0rPM4jVRJ/IxdmZmy5YtC7Yv08Pr53EGDBgQbJa88doZdbYJEyYEm3qX/3zuPqQ0ObP0fWHeUOqjc+fOrbZ5z9iXvMYnn3wy2H/0R39UbX/9618PbTn915Mas93hQx/6ULX94x/fE9puvvlD/HjAdy1PuY6uKLpG/+iEEEIUjSY6IYQQRdPncDf/2zP1kugscm6ruu7Ioz3W7bffHtqYiovuJ1+K54wzzghtI0eODPaf//mfB5tlWz760Y9W2zNnzgxtF1xwQbCff/75YH/605+utn/1q1+FNi6f57PGZf4+/GDIkCGhzVfuNoshEWbxPvA4DWVq0J4KGaDbl9c4derUYPvQjqFDh4Y2hm6wr/fs2RNsX5GcY+cf/uF/B7txGPZxbWxMv/NOOql55XO+Lh977NFgX331tcl9e/r2jTs7dAiVz3GsTgtd6M67Rf/ohBBCFI0mOiGEEEWjiU4IIUTRSKMT3aJueRzitZNcqimmwPq3f/u3anvr1q2hbcOGDcGmVrRy5cpqm3reihUrkvvyoQlmUTu64YYbQtt73vOeYN97773B3rVrV7X9zW9+M7RR+8rpoV5rHDhwYGijNrZ///5gp+7bqFGjgr1z585gN5a8SelbkXPPPTfYXkvlNTBEgNrh/Pnzg33jjTdW2/PmzQttjz/6WLC///3vB/vQ4eYhEn3wP4DnceBgOs1Zip/87D+CffNNtx4x6v79YNc3v6QikUYnhBCi49FEJ4QQomg00QkhhCgapQATFa3ocNSVSIwxisehJufLnZiZbd++vdp+5ZVXQhtjsHxMlVlMn3XOOeeEtltuuSXYX/va14J92mmnBdvrX0xLtWrVqmB7Tc7M7J//+Z+r7VxqKWpy1B19+969e0Mb+zKlrfOebdu2LdhM48Xz9job04VRd2UZH18SadasWaGN95D34Q/+4A+C/eyzz1bbr7/+emjz8Ys8ZzOz//O9/2vd5cDBA8Gu87z0iYeNmpyZffbzR87z7CFxnN7+5b/CzrBz7LvTNLruoH90QgghikYTnRBCiKLRRCeEEKJopNGJCmoMPm6I2g81GGo0JBVHxxyTZ555ZrDXr1/f9DwYV0fdxOd6nD59evI4jOe69tqYj9DHmTHmjNqh143MzPr3719ts3QO+5L9c+BA1Ia8zsT+yMXg+f5Jldnp6rgsc+Tj/6ijMTYwVfJo8+bNoW3Tpk3Bnj17drAZo+jvE3XGe+6J5XI4Xv7+7/6+2v7CF74Q2g6+E8/5lJNjHN3Bt2P/xKSTyPXKroauduikIx+44+++mvxsg33QRAb9oxNCCFE0muiEEEIUjSY6IYQQRSONTlRQ3/H6D9tSmotZOlbsX//1X4NNzWrx4sXB9jXXWOeNx3n11Vebfnft2rWhzWt/Zo015XheCxYsqLZZI4311nhefl/UuliPjuTiDlOfJXViIxm/x9p3r732WtP9Uv9kHJ3PK8r8nF7PNDMbMWJEsKkHek3vJz/5SWjr2yeO27lz5wbbxzs++OCDoW3O3PcG++DbGTHM90HN1MBPP/10tf3qvhij+d8+81+D/Y2//1b8Mt/i6TDNjkT/6IQQQhSNJjohhBBFI9elqEi5tbgUnSVLcsvcv/Od71TbTNPEcjBMr+XL6QwePDi0Ma0XS+usW7eu2t69e3domzFjRrCZtovX8O53v7vapvtswIABwd6xY4c1g9dHFyGPy2X+3m1MVyVdpgxd8O2839wXXZXnnXdesBctWmTNYLgF+8tfE8cSP7tw4cLkeTz33HPVNkNVXnslurJZxsePAZ+WzMzspz+JqehuvTWm7UqGF/TFs8TwAjQvmLfQmnHWwOjKvfb9sSTUoz9/oul3xX+if3RCCCGKRhOdEEKIotFEJ4QQomik0YmKlGbDtlw5mD/+4z8O9pYtW6rtK664IrRx+Tj1Lh+6wJAA6jd+ybuZ2UsvvVRtc1k/r4na4Z49e4J99dVXV9tMJcUl8YMGDQr2+PHjq+2NGzeGNmpwv/mbvxnsH/3oR8FO3Zc6qdlyoQi8RvaP1xapnfI8eI2+f9jP7Dtqp5MmTQr2bbfd1vQ87vzBD4M9cuTIYPPzHuq9n/vc54L91Tv+Nn7B9+c7EOFypXT8x/HZv/3rvwv2pHeND/aAoTGU45Vt8T4J/aMTQghROJrohBBCFI0mOiGEEEXT53A3cwLl/Pni2JArw0K8vpVKy5U7Vu443/zmN4NNfcdrReeee25oo+ZCXcnreyyls2rVqmA//PDDTc+DOhHTeFFXGj58eLD9o8JyMIzRo+7kY8NYloZxZOxr3rfUPeVzmnq8c2Mpp/f5ODveF+6Lac727t1bbVM7pd7Jffl4RrOoy06bNi20XX755cFmujGf9o3xjE899VSwvd5rZrZ06dJg/+AHP6i266RaI7wv3BfbmW4tlZotd15+/DCtX64U1/GiO32tf3RCCCGKRhOdEEKIotFEJ4QQomgUR9cLScVJ5bSyXO7DdvHII48Em/oFY+GWLFlSbdPXT82B5zx27Nhq+4wzzghtjz32WHJf/jyoz3Bf1M7Y19dcc021PWrUqNBGXcmXoTEz++53v1ttMz8nS9jk7rHvn5wml2rncXKaTErTO//880Mb4x29Jsd98z4wTybjLnnePg6Tmhy10ylTpgTbl33yeVHNGnN9Dhs2LNjUA307Y/+Yv/Ott96yZuR0tVxpKn8fc+W02Jf+WDlNrk7M5vFG/+iEEEIUjSY6IYQQRSPXZS+knUuTvZujbmiC58477wz2mjVrgk3XFEueeHcdXYh087DdL/Nn1e9UWiqz2JcML6CrkhXGGSLg3VwvvPBC8jzonpw+fXq1zes966yzgr1//35LkXJt1yEXMsTxws97NyBDMZ555plg07Xr3Vx0vTFUgTbdwj6tF+8D7ykr1Hv3JMcOXcosvXTqqacG+yMf+Ui1TXfsHXfcEWy6EFPlk3LPLT/v+3b06NGhjWE/xJ9XTgbpza5Kon90QgghikYTnRBCiKLRRCeEEKJopNH1cuqkdDJr9KP79FIsrZPSCczM5s+fX20vXrw4tF144YXBXrRoUbBXr14dbJ8y65JLLml6HDOzG2+8Mdhr166ttlmGh/oO271mQ/2G2lhOV/L9x6Xmy5cvDzb1HW9TK+TS89x98VC/oW7EY3lyY4nnwfEzceLEavvNN98MbakUaGZp7Zhw7PHzPvyEWvGMGTOC/fGPfzzY9913X7XNEj7UYbmcnqm3PvGJT1TbLK1UVyvz1Enbxc/zOAyLoe7o9b9W9N/ehv7RCSGEKBpNdEIIIYpGE50QQoiiUZmeXk4uhob3JZdOK/Vdr1ewnSm+qP1Qg6BG8/TTT1fbTK3EGCzG6C1btqzaZkkXlrjZtGlTsL2+xzipXJzQe9/73mD7R+XKK68MbTyv22+/Pdheo/vABz4Q2u6///5gM46uFa0kpffltDH2D8eejxVMxXKZNV5TqgQU+5LjY+jQoU3P67bbbgtts2bNCjZ1Rp+Ki3GV1PvIF7/4xWAvXLiw2n7wwQdDG2NDv/GNbwTba5w5bbSdpZj4HPu+5z3k88NrOl6oTI8QQoiORxOdEEKIotFEJ4QQomik0fVCUvpFLsaK98nH/nBfX//614Pt45HMos7G7zJOjDoCh5WPYWOsF/FlV8zMHnjggWqbcUHUEdgf3mbpGGqFjIuaMGFCsH3eRB6XORQXLFgQbN8/jM/zMYZdkdPSPLnH2bfXjdEkfiwyBm3Lli3BHjx4cLD9sanJUfth/Brv8aBBg6pt6mbU2Vi2Z9KkSdW213PNYpygWaMuy/PyGt2qVatC28svvxxs5uD86le/Wm0zti13//lspt4fub70WiHvS53cuMcSaXRCCCE6Hk10QgghikYTnRBCiKJRrsteiPeF160hR3+114Yeeuih0MZ4pKeeeirYPp8jz4MajI9HMkvnBWS+PeanpEbj82pSG2P+yp07dwb7lVdeqbbZN+xLX1/NrDGPptcW33jjjdBG3W38+PHB9hoNv0t9i9eQ0iDq5qv015zTe3MxmV5ny9Umq1NjkGOH94G1Dn3fzps3L7QxnvNLX/pSsJ944olqm325cePGYPMaLr300mD7WFJeE/OqMibtYx/7WLXNGDuOlzqaHe9x7j75Onp8LnkN7K/enBtT/+iEEEIUjSY6IYQQRaPwgl5Ianlw6rNd8Zd/+ZfVNt1pTHnkl2mbxfRAdDeuXLky2GynW9SXWqGbk+e1ffv2YHtX1pNPPhna6Jqhe8m7WOl6o9vz7LPPDjbTR73vfe+rtumqZOqxO+64I9h+mTvDONgfDDfgNfpnkaEadHMRvy/2B91pPC737V8dXIrOEBGmmvL7GjhwYGij24/nwfvmz+Pyyy8PbXx+WF7KpzGjq45p7Vhq6Lzzzmt6Xgy/oTuW49S7UNkf3/rWt4KdSwnm3wm58CO+/lPvHu6L9+V4ofACIYQQHY8mOiGEEEWjiU4IIUTRKLygm7SaLslDf31uyW8dPv3pTwd7+vTp1TZTXFELYuohv+ydoQe5EAEuzfb614wZM0IbNZnVq1cH22sD1D6olb3wwgvBHjBgQLVNbYP6FjW5c889N9i7du2qtqnnUd9i//gyRyx5xLGUS4nl+6NueIHXYPjdXNkVr2eZxXtO/YYhEiyn5EMGOP6phbHED8ex1zwZikBtkCEB/p5SV6QmyX378BuzqGn51GJmZosWLQq2T7VlZnbTTTdV2+wP7uvP/uzPgs1rTOn6vOe5UkwePlu9tWxPV+gfnRBCiKLRRCeEEKJoNNEJIYQoGsXRNaGdJUxyqadagf56aiVeh6Lvn6VCUvFb1O9YdsWn2jJL+/7py6c2Qg3Lx/cxxo7Hpd7n9R0eJxcndNFFFwX7/PPPr7ap31G/+Ou//utg+/JC/C7Pg6Vkcqm6PNTCqEt6GIPJe0ab8V3+vDnGGRvIY/kYNZbSyZXp8WmqzOI1s7QO4+aoZ3mNl+OO1089+MMf/nCwfX8wNpT3dOnSpcH26bWYtmzZsmVNj2Nm9t3vfjfY/jlvZS0BxxLfH70l5Zfi6IQQQnQ8muiEEEIUjSY6IYQQRSONrpvQX01SWkhdUn19++23B5vxa9QgvDYwderU0EZthBqMz93n9SmzxtyO1OyoSfiYI+YqpCbhY5vMzK644opqe/369aGN+oWPmzMzW7NmTbU9bty40MbcnszPyfvwrne9q9qmTvS9730v2MuXLw+216wYJ8a+Yjv1Lt/O+83HmbGCXmepqxWnSkbx+aBNfctrq9TgeE1DhgwJNnVaP7Z4TbxPLInkx+KcOXNCG8cDtVGOHz9O2Vff/va3g83nxcddsu+WLFkSbPYXz8sfq24ppjolwuqWEOsppNEJIYToeDTRCSGEKBq5LtsE/8b7bs1Vak65F2677bbQxqXpDBGgKzNVBZpuraeffjrYdK946H5keiS6Or1rxi+1N2ss+UPXnXc58hp8eROzxtRK3v3ENt4Huqro6vSuXy6Bp3vt0UcfDfadd95ZbeeeJY4XX0Gb1Ak94L5TJVrMGt1+dKH6Y9N17yuImzVeg+8DuuIIXep0dfv7tHbt2tDGUjpMP+fhs8VzZl9ff/31wfbHZl8+/PDDwb711luDPWHChGqb7ng+L7R5X7z73o87s/a6F3sylWEd5LoUQgjR8WiiE0IIUTSa6IQQQhSNNLomHM+ltb/+679ebbMUBnUktlMb8am7qHXwGlh65vHHH6+2qUEx9Rb1DOp/PuUR0zJxubjXK8ziNT7zzDOhjSm/mObLX+PkyZND27XXXhtslpZ57LHHmp6XX0reFXfddVew582bV22z72688cZgs53porwemtPZUuOybpo77tv3NUMCqBVynPp7Tq2Hn+Uyfh7La0NjxowJbdTsGF5wzTXXVNtM27Vq1apgz549O9j33XdfsP0zwtCdT33qU8Hmed5zzz3VNrVyhtvwPKmNPfLII9W2D4kxa9S0iR8TqXUHZscvnIBIoxNCCNHxaKITQghRNJrohBBCFI00uibk9Itcf/j2XLn63/md32m6H8Zr0W9OjWratGnB9rrBG2+8Edqoq7Hda3bUOtgfjFG7+OKLg33mmWdW2177M2ssD8Q0Xr4Eji9nYtYYv8dYKH9NTIFGne2yyy4Ldr9+/YLt7yNjuX72s59Zis2bN1fb1FmZAoz94b9rFvs+Ny7r6HBsy8VJ+fHBODpfhsesUXf0x2J5HMZvsq+p4XptNVceiNrYlClTmn6WmvX8+fOD/Ru/8RvB9unpWKaJMYnUpe++++5qm88Hn6WNGzcGm+n4Jk2aVG1Tz6R2/uMf/zjYdWLhlAJMCCGE6CVoohNCCFE0muiEEEIUjTS6o6QV//R73vOeYF900UXB9iVe6FPnca+77rpgM/aHMTgealQ+5s7MbPHixdU2dRH68hmjR21x9erV1TZ1NsZNLVq0KNhe/2MeTPYH9+3jiHiPWDrGx1SZNcbVXXnlldX2hg0bQhvLB/3Lv/xLsPfv319tU0fkeVDvpIbndcec/kt8vsY6eTHNGnUmD3NIMt6R95i5Uj05XZHPhNcHc5olx4fXIRmfRo2W9i233BJs/yxSG2MO2gcffDDYPu6S8Z6MjWXfMt+tj7tk3CD1PObv9M88YfmgdpYmawVpdEIIIToeTXRCCCGKRhOdEEKIopFG101ayX150003hTb66xk35vULxhRR++J5UMPyugp1Nd56xg15nzx1onXr1gWbvn7qOb4eHfUZ6gKM5/PnwTbqNdRG/DVRr2DNPGohbPfxbz62z8zs/vvvD/bChQuD7ePIWOeOsY/U6H7+858Hu135K+vWsuM49VojtWDeY45Lfx+p7zLmjsdl/zB2zuPjN80an1PfX3/xF38R2lj3jfeN5+3zWzIG8bnnnmv6WbN4n3xsn1ljfTrm3OTY85ov+2bs2LHBXrJkSbC9lsz4RY4PxdEJIYQQvQRNdEIIIYqmONelP89uXlpbvktuuOGGapuuSi4v9249s+iaoYuD6X/oEqLbY8uWLdV2rrwHXUY+FZVPK2TW6EKli5Uuxn379lXbXIpPFwndj75/mA6LqaYYMnHOOedU20yXxmX9uWX/PqSAfceQCKa18ufJtGVc8u7vWVe2J+WKM2t0N6WeY45533dmjS5Df5+4X7pF6ULzS/U5Lpkey4+dro7lz5vPA6+fLnX/XYYLMKSG5YKYqsu7WOlS53nRpepT9fH54FhjGBBT+fl90y3O0kKpFIO5MBdSZ2zlvpv6fN2QGjP9oxNCCFE4muiEEEIUjSY6IYQQRXPCaXR1fLm5ped1llfnrn/EiBHB9poWv0udgBqE97lTv/O+fLPGNFXUbPx5Ud+iBkUtcdiwYU3PkddE/z2X6vv7xGug7kjNwWtUvEdces5UUz6kgNfL5eLnnXdesHksrzvy+ngfmKbJL1Xn/ac2Sk2OGk0dLbnOEnAuic+NW6+7sd/9MvWu2v2zyXvI73Jcpp5FPtO5NFX+mryubtaYqm/evHnBpu7m7xtLPuXCYjw+hZdZY0owpp9j2ac1a9ZU29SDqbsx3MDvO3W/zRq1VNIuzS73WYUXCCGE6Hg00QkhhCgaTXRCCCGK5oTT6Kgj1NEvcvqe1zNysRkXXnhhsL2eZRb92YwxY7kLxsp5jYpphuifZ9wcY8G8dsS0TDwP9qXXVaij0X9P/Yv6hdeoGGNGUiVdqDnwGmj7+LUxY8aENsYQUWedOHFisL3uytRJjNF75JFHgu2vgfchpxVz3Ppxys/m9lVnjOfw58USNuzbOudRR4fn5+vGv/o0byw1xPHAMf3ss88G28eDzpw5M7TxHcBnwKeq43F+9rOfBZvvHl/WyyzqktTkqOdR//SaNlOP8d1LLZX33N+LnkwPJo1OCCFEx6OJTgghRNFoohNCCFE0vV6jq6OrmbVWwsT7oKkpXHnllcFmjA197l7T8nEtZo26G8/Dx2gxxoqlZqhZ0Y/uv0/fP2N5mEPPa3Y8j1y/Uxvw++I5M+8fY4481KB4vdRVvFbKfmfcHMsU8Rr896kFMsaIeRB9DCe1DWqj1E1y5XOOlpzendP7vC7NMUzNMqWX515BdcsJpUhd88c+9rHQxlJUfPZWrlwZbP+MMMckY3ips6XK4zDOkGWbqJf7/mHMKrVU9qXX0pmDlRoc36ds9885r5+08h5XrkshhBAdjyY6IYQQRXNy/iO9mzp/cQldIt6NcdVVV4U2uv18CRuzxhIes2bNqrbpLqGbi+mzvAuA33366aeDzWXLXLru3Rp0D9BFRhfS1KlTq22mAOM10M2XSg/E9Fl0efC+eHcLj5O7Ju/KZNkZhnXwuPy8vya6V3kPGY7h+5b9TNcU3Ut09Xp4/XWW4qdCc8zyLiHvrqebi88Dx48/z5wLldeYCr+oK234YzPF18033xxsjlPi90V3Yi6dlk8fxvEwf/78psfpCu9SZmo6utwZFuRtpuLjeTFVHUOs+Dx5eF96Gv2jE0IIUTSa6IQQQhSNJjohhBBFU3R4Qd1UQtddd121TV82dRJqEmz3y3qZlouhCEzL47UC+sl5XrxG6ht+37mSHcRrWNTV+F1qAakl4TxH+v55nv6+8fp5/6mleq2IKcCob1L7oN7n7yO1UvYHtVKv7/Ce8ZqoBVHP8X3LviR1noE6S7x5HrlrSJ0Hv8vSOnWuIfdZjkv/HF9xxRWh7SMf+Uiw77///mCzf/z4YAgJdcVNmzYF24cuPPXUU6GNYUAMoeHY8+OYzxK141zqPg/3RZ2aOqQ/r9w4TZG7p0oBJoQQouPRRCeEEKJoNNEJIYQoml6v0dWlTpme8ePHB9trA0xZQ42KegZL0qdKyzDehP58/13qF4zfayU9EjUo6o5eG2AKMB6HWiL7x18Hz5m+ft43fx68Lzxnxr6lxgP1CZYHombjU5VRY1m/fn2w2V9eG6G2Q42Sfcd9ec0u91y2UoqqztjKxWfxPFJp3qjRkTrpxNg/tP01zpkzJ7Qx9o/nxTRf/nniM813DbUy/46gvjlhwoRgr127NtipVH7Uxphuj9/1qds4LhkryrUFXHuQuo919ODcZ6XRCSGE6Hg00QkhhCgaTXRCCCGKptdrdLlcfnX89YxnYz4+74OmXkMNgnBfXs+gRjd58uRg04+eyqlHPzk1Kcaz+f5jPFZOz/M6Cn37qZIcPK5ZOtcjoTbk95XTb0aNGhVsr52yZAlLyTD2jZ/32iq/y35fvXp1sH18EvUpag51x7ynbuxoT8F4LI4frzu2EmNlltYdc/3hY794zjfddFOw+U7gvrwuR/17+fLlwWYsnO8PxncyJyv1T5b1Sd1zaukci75UFd8X1PN4jew/Pk+pffG++TGRG8PS6IQQQnQ8muiEEEIUTdtcl3UqBreTlJuHbj0ul+XfeH8N/CyXeDPtDtPf+OrVvmqvWaNLgK6KcePGVdtchkz3AK+B7kh/LLbRFUMXkl9eTXcJXYip5eJm0R2Zc5mmlhPn3Hp0e/rUSvwuU37xuxwDHvYdXZd0xXi3Fq+fLqBWUmDVTeNVOnX67td+7deCfc011wSbFcdTITZ8XvySf7PGEjf+/ZELe1mzZk2w+T7xMgLbcuEXXoLJlSWinMP3h38nUNqh1OFdpmaN0oCH59ydkCr9oxNCCFE0muiEEEIUjSY6IYQQRZOuye5oR6mE7u471ZbTHLyGxSWs1NXoN/Y6CrWxiRMnBps6Cv3TPiUU01ZRz+vXr1+wly1b1vS71OhyGpVf1p0ry5PS+6hn8b7Qn8/7lCqfVEdHyd1/3gefMo33O2dT4/X3iZoLl1Jzybc/L/ZlLmSiDp2uydXFjz3qmwsWLAg2QyQYfuK1tMcffzy0Me3f1KlTg+2feY47anIMN8iVvfLkUuh5XZ79kYP79hoexzh1Nb4D/LFzpci6g/7RCSGEKBpNdEIIIYpGE50QQoiiaVscXcqf207dgPoG8ZfDlF+MheM5+3g2lpygBsNUU/RPe5vxJuwPXpPXiqi55VJvUWdKfZeaHP3oXtOj3kk/OX3u7RwPqRRPddJl5crhUBuZNGlSsP29YBwUtY7NmzcHO1XCJUdvSetVOoxn/fznPx9slqWhhufL51CT27VrV7BTmi6fU44tvps4jv2+qf/zfUK9z+uQfKa5PoDjmOPUHzul2Zs1vgNT18D+URydEEKIjkcTnRBCiKLRRCeEEKJo2hZH14oOl4plSZVv6Ar/fepX9E+ntBL6fZl/jvkJed4+psbHppg16l30fa9cubLpcfldxvbQ9v585r2jTpDq25wmR9pZWsaPAd5D6p+8ft9OHYDaB23mGJw+fXrTtueff77pOZul+7ZujKr/fN04006H48fr+Bw7vKcsrcOx5/M1skwT1wvwnTBjxoxq22t9Zo3PGt8BXHvg4/s47qjJUXf0awv4fuA7jn3Jd5Ufm1wPwHdeKlcu1z8czRjXPzohhBBFo4lOCCFE0WiiE0IIUTTdjqOjvtGd2IXqIJkYvDpxQTmtLKX30bdNvM+d10cfMmOyqAd6fz99+dw3fc4+no0xJPTHUytK3Sf61OmD53n582Zf5nJ91qGVemupelpmZgMHDqy22ZfUCXbv3h1sjhcfG8Xz4Hc3bNgQbN+3uZpgdZ4HxdjVI9Vf1OhuvfXWYDPOkvfca+CjR48ObXfddVewObb8c8vnkHlTx4wZE2zG//nP8/3IdQl89/gYteHDh4c2xgLy3cOx59/VfNfw/cHzSI1jaul8J3aF/tEJIYQoGk10QgghiqZtKcBaWfLsP0/XG12V/OudWopNVx1dV8SfJ90HPA73xeXC3u3H86DLjH/Ft2/fXm3TFce//LlwDO9OoauB+0qlKmOJn5zrmtdcx9VNUm4d3heOH98/dPHwsyyfxP7yffniiy8m90XofkrRTld/p7s2OaY55sePH19t89nheLjtttuCff755wd73bp11fZ9990X2lj2i8+tD03gcvpx48YFm2OJY9HLCJRcOE45Hrwk40uNdQXfTXST+vOgq5bXSPy45RxAmag7Y1r/6IQQQhSNJjohhBBFo4lOCCFE0fSIRldXB/DLelMprMwa9S0uW/XaUE7fY7tfWsvl8jnNiXqO/z798dy3T9ljFvuS2hiX0vK+eF+/WbzmnL7FfXm7btqdlDbUTg2KmgPvU6qN5+FDEcwa0zZdffXV1Tbv2b333hvspUuXBttfE+8DdSNSR/NuZ992Aj4M4KabbgptU6ZMCTbvG989Pr0WP7t169Zgr1mzJtj+/cEyNHwn8v1Bbcy/16jncaxR7/LPE989fD5yqQ39NXHc8bh8r3sNj2M6F+rUFfpHJ4QQomg00QkhhCgaTXRCCCGKpm0aXZ3P1knxRL8wdTbGuvi4kVRKGrPGWDi/bx6X8Sj0o9Nv7v3V9LHTf5/y/TMND3WBVAo0s9ifPA794intp278XjvTWqXGE4/LezxhwoRqm9e/Y8eOYFNnZfyS1y8mT54c2qhn+FhIs6hJ+Hgrs8Z72q6SV2bS5DhOOT4+9alPVdt/+Id/GNpYpoc6LFOA+XjYTZs2hTaW7eH7xaeXY6oxjheOU46fbdu2VdvUpRm/xhhe/0zw/ZDTlnlNPu6Ux82tW/Dk1kcojk4IIUTHo4lOCCFE0WiiE0IIUTTpBH1HSV1dwPtr6Y9lrAb1Ln7ea3b0C+f0La/BUJOjBpO7Ru+/5jXQP52i7nfr9D37p853qSPlNLsUOV0plb+U8WxDhw4NttczGLvE43BsUYf1MZ3UXJhTkde0c+fOartOSZKu9pX6bi42MqXZ5o6b2nfd/LYe3tO6/dPsnMzMRo0aFezPfOYzwZ49e3a1zWeezwf3zVyQ/jqob3FcUhvz+hafeZbH4XmmSpexL/m8UKf218Bnms8D2xnj6+9bTpNLvT9a0ayr/be8ByGEEKIXo4lOCCFE0XQ7vKCdLjO6ALzLMOfG4HfpXvApfXxKHrP832X/1zy39D7nIqpTlib1t77uMn7iz5MpenKVztu5NL2O+63OEnkutaYL0V8zx0NuXxyLvp0V5ukGTx2rVVdMnVCfVN/l+jm3rNuPzZ50ZZNUSSQuzf/Sl74U7GuvvTbYfin+ihUrQtuCBQuC/cwzzwSb7seXX365aRv7jufpl+L7czJrfMf5UASzRtemf3/Qrcn7wHGaStvlz7E7tJIW0o893m/afPa6Qv/ohBBCFI0mOiGEEEWjiU4IIUTR9EgKsLr7Si1ppX+a/tmUvsXPjhgxIthM05TSIelj5zWwrLzvVvq2eU3Uhvwy3dzt4TnzvLzWyH0xZIL9Vae0TiqFD79f95pS50EthPv2fZvTkVjiaPDgwcH2/UVdhDoBy5CkyOnf7QzV8M9aq+EFnroavrc57kaOHBlsLlvn8+KX7udKLc2dOzfYPmTk0UcfDW0cW7TnzZtnzaCOxmX81Mt9X/N9wf549tlng83+8+EHPA+OU56H72um+GK6RY5Lnncq/IT3kPhxyvdl3TJXZvpHJ4QQonA00QkhhCgaTXRCCCGKpm0aXSsxEyn/PvfFz9Jf60vvMGUNfcr0bXsffC49Fved0kIYj0SfcuoaeY70g9eJ/WKKqy1btiS/m9Ld6sb3eZuf5XFJSkti//CcU/ov+338+PHBZqqllFbIc6SuRD20FdoVR1en78war9HrO2PHjg1tTLfHsXfBBRdU27yemTNnBpvPIrW0jRs3dnlOZo0pwHgNft+8fsZk8plnOi1/HdRwef3Ug/2+uXaAcXWMjfM6o1lj+TEPr4nX7Mc8n5fce6sOqdR0tHManMr0CCGE6Hg00QkhhCgaTXRCCCGK5qg1upSulov7qaMx0KdMfy01qlS+Sl5qqrx7KoaKxzFr9P17/SMXY5bSjnIaJXUUahQ+px77yufmM2vU/3wsWKv5Gf1550rLHO1+zeqdZ+67l156abAvueSSatvrQmZmmzZtCjbjpqjZ1aFOnlBS5znN9QfH1vvf//5qe8qUKaFtxowZwWZu0Oeee67a/vnPfx7aGCfG54d6lx+nfB5yWqrXyhiDd9555wWb18/+8fvOabIbNmwIduo+8TnNlR/zzznPmeOF3/X6H2PucmsN6sS/thIbejR5hfWPTgghRNFoohNCCFE0muiEEEIUzVHXo0vlwWtnHF2qdp1ZY/41304fM8+LPmbvg2YbtUKec508b3V8zHXj1VJ9z76ijsDYHq991PHH586jLv5Ydf3z/r7xnBiPRA1z2rRpwR4+fHi1TU1u8+bNwU7lUW1V7/RQN2HOVWrNXlueOHFiaPvgBz8YbMYV3n333cH2uR7ZHzlt2fdB7rM9Obb8M8G8mHxeqOG9613vCraPX3viiSdCGzVaXoN/b+3cuTO05WJ2qcP5MZ+LHU7lFub7M5fvt5Xah3X2RRRHJ4QQouPRRCeEEKJojtp12U73Qeo4dM3QncC/7S+++GK1zfQ/TKXD8APvnsu5l3Ku3O4seW32XU8qtVhX7a0s280du86+emp81MW7ath3LNvkXZNmZpMnT25qL126NLQtXLgw2FwS793EdBnzvHL32LuycqErdFX5a6QrjvtiCAWXtR8rcu77OqE8qfI4lCemTp0a7L179wab98WHPXBfvA/sy927dzfdL7+bCicwi+OD+6LEQnetTyeWK4+TCqlie92QszrvxO688/SPTgghRNFoohNCCFE0muiEEEIUTdvK9HhaWR6c03roY08t86fWkfObe993bhk/v8vz8ueR0+9SPuZWUlzx2K2EfbRziXc7lxrX0Rlz5YCGDRsW7IsuuijYl112WbU9YcKE0MaSPvPnzw+2Dz9gqAbLrLDEC5em+zGQ0zbq3Ld2ll6qM257Ut+tM9ao/7PczZw5c4J98803B3vlypXVNjXbrVu3BptjwIeFsI3jge8atvtr4jXwGeC49fpxq/ch9e5p5b12NOnE9I9OCCFE0WiiE0IIUTSa6IQQQhRNj8TR5XSDOv5YxojQf91KvBo1Ox9Xx3gcHqdOefd2+qPr0lvi2XojjKOkfnHWWWcF+6qrrqq2R44cGdqom3i9xszshRdeqLaZ4omxTblYsFbK9nQ6Kc2O958pvlgeiPFsY8aMqbapu+7fvz/YfAf4sZgrCcbvsoyP1+V8Gr+u9sVr9mOP6xBy4/J4oRRgQgghOh5NdEIIIYpGE50QQoii6ZE4ulZoZw7JY0nK999K3FguDyKh/97b7SwPUyIce8wD6DWLW265JbT5GDszs+XLlwf7e9/7XrXN8ifU6JhjUPet56AO5aEmRU1/9OjRwfYlkajR8bNce+BjJamj8RzXrl2bPC9/3owNpD5ch9RxzI6fPiyNTgghRMejiU4IIUTRtK3CuOdYpotKQTdfnX0xdQ7DCehuaiWtWQr2e8rVYtbo5vKuXi09j7Bv6U7icvIpU6ZU2wwv2LdvX7B9OIFZLPGSWy7eTlpNIXei0850cmxnGTAfjjJz5szQxud2yZIlwR43bly1zfJIDDdgSjiWW/Lvqj179oQ2pvxKhY2lQg/Mek9pLrkuhRBCdDya6IQQQhSNJjohhBBFkxZ8HK3obnVKidQ9Dn3M3q+cS1tG3c23M71PruQPtQ/vz657DamQgDqpx0QaahvUZamNeH2Dy7YnTZoU7CFDhgT77rvvrrZz96hOKE9uX52myZFc//jnmqFLfC6HDh0a7BEjRgTbp4HjcamNcXz4Y5199tmh7cUXXww2S0RxnPp9MTUd9WGmwfP7yqX8OpHeNfpHJ4QQomg00QkhhCgaTXRCCCGK5qhTgLUzhiKlSeTigFLH5Xfpj6b/2vvrGRdV9/pyqbpS+06VoG9Fc8lpPyeSz70n4HgZNmxYsAcMGFBtMz0YdRLGL/nYJ6YAozZUZ4zn6C2xTseLVq6f36UuS83Oj5+5c+eGNp8ezKxR/9qyZUu1zfGwadOmYDOGl7q91wM5prlvH9/JfeU0S3K89GDF0QkhhOh4NNEJIYQoGk10QgghiqbbcXSEftGU/zbnu02VtGmlLA+PSx2FtsfnrTPLl1JJHTunb/I8vXaY02vqxGR1mj6TgzoqxxrHh8+FyftCzY5xU7t27aq2c2OnFY5VOa0TBY753D1PfZdaWP/+/YPt3xnbtm1Lnhfj2XzeTOa6nD59erAZw8ux5uPuXn311dDmtUAzs3POOSfYvowP83Pm4up6M/pHJ4QQomg00QkhhCgaTXRCCCGKptsaXc63ndLhTpRYHn+e9G3napfRf5/KV5mjTg05aTJHD8cwNQnqKF47HTNmTHLfHB8+BovaXzvvYW99tnoLvOd16mpShx07dmywfX5c1jLkeOFxvc42aNCg0MY8qnzXvPzyy8H2sXFr164Nbbx+xnSm1haQOnrn8Ub/6IQQQhSNJjohhBBF023XJUtSsJw77RR1yvQcS1JhDnQ/MtwgtYy5TniFWc+5AJQCLE3u+seNG9fltpnZ/v37g11nKXZP9vuJIhv0FLnr9+18TunKZjtd26NHj6626X7k+4LvU79vyiRMAcb0cosXLw62d0fmJBaf1s4sukFzZc56s6uS6B+dEEKIotFEJ4QQomg00QkhhCiabmt0LO/OkhUDBw6stln6nf5pktIN6vjY2Z77bs4HXec8SCv+655K29XK9XcCvMfjx48P9oc//OFq+8ILLwxtDEch99xzT7XNclHU83Jjp86S+E6/p3XeF4SaHFNtrVmzJthe05s6dWryvKi7+XvOtFwLFy4Mtk8nx+OaxfHFMIcdO3YEm6WovIbHvmLqMfYPdWr/fsmtU0i9i3L3sDvoH50QQoii0UQnhBCiaDTRCSGEKJpua3SMC2HqGO/bZdl4xm5Qz/BlS+jLrauzpdJn5WLjWiFXiifVltJkcv7oXHvqGtt5/SXAlEZXXXVV089yDPu0S13ZPj6priZHOl13a4VU36VKjZk1ptpiHN1zzz1XbTPNG7WyyZMnB9unD2NqMWrFHHup55hxdDNnzgz2kiVLgu3XYvD6qNFxnQY/799NnAM45ntaW9Y/OiGEEEWjiU4IIUTRaKITQghRNN3W6BgjMWHChGB7H+zq1atDG0tUrFixItip0hA5HamV8kApnzz3S/2G+0ppi3W1sDr+6VZ82Z2eB5H3lPdp1apVwZ42bVq1/dJLL4U26m7UZLy+wXisnqTT73FOd6ujYXO8UGfzfT1x4sTQxlg35kr1sccPPfRQ4owb9b+zzjor2P369au2OU4Z40wNz6+XYLynb+vqPOqsUyCp9RTt0O/0j04IIUTRaKITQghRNH0Od/N/4DXXXBNs/m31ZXoYXrBv375gc1nqli1bqm0uUWVYA5fW0q6THonuBO9+osujnUvxU8flsXty2W2nu7UIl0/7sitmMTWTd2OaNbp1nn322WBv2LCh2s6NJZVTOnZ4d2Su+jj7ne+xGTNmVNuUa5hCkfLOsmXLqm1fyd6scWzRhUrbuzJzY4khE/7dwxAyuuN5XnVSgOXGcJ00iN15HvSPTgghRNFoohNCCFE0muiEEEIUTbc1OpZcp1/4ggsuqLa9XmfWqNFRo/K+Xmpu1MroU06dJ9PO5MoFpbSTXHgB8X7y3LLcdlJHoxQR6ijUhy+//PJqmzoKQxEYQuPved37oPt29NQNC/Lw3ZPbF5f5e1LL+M3i+GD4SS7VFrXlIUOGND0Prgfg+9bvm/slvH6+b48V0uiEEEJ0PJrohBBCFI0mOiGEEEXT7RRgOd/uM888U20zdQzT3fiSFGYx5mTdunWhjboJSZVgz2lhqRQ/OV9+zi/s+4d6Dn351Cx9PErdODrpOUcPtRDGDe3Zs6faHjFiRGijhs19+THfzvhFxdylyZVASsVr5Z552j71Ft891NW41sCPHx+vadaYxovHpZa2Y8eOpp/luKTu6N9VuTUNHHs8D3/sun3ZbvSPTgghRNFoohNCCFE0muiEEEIUTbfj6HJagNeZGDNCDYoalfcFM08m860xxoS+b3859BnT5r58OzVInjO7jb5uD3UCHpf95f3o1EbpN6fd6ZpMHXjPmL/yhhtuCLbXi1nu5Be/+EWwly9fHmz/DPCetoI0ujS50jFeO8rlt2U73yf+WWRbLsbMj0Vq+tT76pQeSr1rzRrHhz823618j/E8+B7z15wb862MU8XRCSGE6Hg00QkhhCgaTXRCCCGKpttxdIT+We+DpW83V3/L+7PpB6aOMnbs2GDv2rUr2N6fTX889804Ke9jpkaXq1XF+BSvyaRiVbral++vXPxJLiZLuS+bk+urefPmBZvxTB7qrowlTcUktVNn6/R7SnLxWr7vU3G1Zo3vAOpOXsNlXCXXGvBYqRyTPGe+X1M6JN9jKR3NrDHG2cN3XC5O2fdXnfpz/Hw74k71j04IIUTRaKITQghRNEcdXpCy67gLzKKbjy7RgQMHBpt/233aHe6Lf8PpMmTYg18yTrdmLpUQ232pDLox6JrgNezcubPa9ul8zBpdIK38rW9nKqoS8GV4zMymT58ebO9+fOGFF0Lbpk2bgk1Xpi/LkhtLon3kQgbqfJbPy6hRo4LtUx32798/tDHl1+7du4Pt0/7xHUcXKe2cNJSC70APxynfxTwuy7MdKxReIIQQouPRRCeEEKJoNNEJIYQomrZpdJ66Wo/3jedCAli2hyXp/efpU6ZuQg3Pl8fgMlxqYzwv+tX996n3TZ06NdjUDr3+Q31v2bJlVgfvR6+blqh02B8cL7xvfmxSj6AGk0of1YqmIo4dfAfwWaS27scHQ1GohVEP9O8xvqdyz2nqXZwKXeoK/y5KrX8wa0yDd7yQRieEEKLj0UQnhBCiaDTRCSGEKJq2lenpKerEwZjFtD30KVOTSaXhYbfwPOivZ7v3b1999dWhjTE2ixcvDraPqeF5MF6LGmWqvxQ3F8n1B8eLL3nC7zLVEu+L6B2kStycKNppnZRxuTGeel+wje/T3jLGpdEJIYToeDTRCSGEKBpNdEIIIYqm12t0hH7jVF5NnjPLbtAn723G0PCzOf/0oEGDqm0fn2dmdumllwZ78ODBwfb6HmNV7rnnnmBTG0rl52Nf5cqQiEideE+VR+od1NH4+TyQ3PPRW2Il/XXkzpm6G/NonghIoxNCCNHxaKITQghRNCec65LQNeHt3N9wXpP/Lv/y05XJdroffUkXppb67d/+7WCvW7cu2Nu3b2+6X+8SNWu8htWrVwd76dKlXZ6T2YnppuhJ6ri56lZ2l7vy+FA3PClFO0ti1XFt163OnWrLlR7yx6Irl+fRW8Ix5LoUQgjR8WiiE0IIUTSa6IQQQhRN8zrqvYScjz1ne3I6o9fd6J9mGR6WsKDe5VOETZs2LbSxDMekSZOatlPf8yV8zMy2bdsW7N27dwfb63LSkSKtXH+n9dWJSk5H8u+XnDaWe368nQs/aUXfI63sK/XdksKN9I9OCCFE0WiiE0IIUTSa6IQQQhRNr9fo6GNPldno6vOenI/dQ/80j8vy9kyl4+1ly5Yl933rrbcGe8SIEdX2vHnzQtvYsWODzXJBvH4fk5eLqek06upsXrftrTFFIpJLc5cqY5VbH1A33i2173bt16xeCrB2frc3o390QgghikYTnRBCiKLRRCeEEKJo2qbRtassSS5mpI4WUtfHnoqDycXrMd6tf//+1fbMmTOT50UN77TTTmv62b179zY9Z7Oo75mZ7dmzp9pmrst25gEsgVyMUR3NQnF2vYNW7lndHJOpEmHt1HRbGaftPK8T6f2hf3RCCCGKRhOdEEKIotFEJ4QQomjaptG1S5Nop7ZR12dc59innnpqsJnr0ufGZMwdob7nPz9jxozQtmbNmmC//PLLwX7qqaeCPWXKlGqbtepy+kUqpuaUU05pes452lnLrZ35OtuZC7RdmnWp+P6pq4Wl9PO6Y8vbdWq15ch9N/X85K43dx4+hrduzcme0hnbma/zaNA/OiGEEEWjiU4IIUTR9PoUYMeLnMuDrrpBgwYF2y/zHz16dNM2s8bSOq+99lq1zTI8559/ftLet29fsFesWFFt51wPqdIiTKXE62d7K26OVtwYdZZ851wz7XSDikgrJZFS32Vb3RAjTyuuy9x4pxTg5Qv//Js1yhdMN7hu3bpg8x1wtLDv6pYt8n3Qzmc65wbtCv2jE0IIUTSa6IQQQhSNJjohhBBF0+dwN52nR+MXPZGhHzy3TJf+bK/DzZo1K7QxFdcHPvCBYHvd7Y033ght9957b7Cff/75YLOMj/eTM9XYgQMHgv3SSy8F2/v66y5T7nTqLGPvdPjs0M6NPb9Un5/NaXae3H2pE7rA8lnjx48P9kUXXRTs66+/vtp+8803Qxuf282bNwebGv+TTz5ZbVM7r3ONdfuD+P5hv/O8UusDcmFQ3ZnC9I9OCCFE0WiiE0IIUTSa6IQQQhSN4uiaQF9/yrdv1ugn3rlzZ7X9xBNPhLYxY8YE+5FHHgm29437cj9mZh/96EeD3a9fv2Bv2bIl2Pfff3+1TT/4sGHDgn366acH2/cBU42ROvFLdXWDOsftLbQzJq8EeM+97pIrgUU4jv04zfVzat+5mLtzzjkn2J/4xCeCffXVV1fbF198cWhjysAXXngh2OvXr6+2qe/xvKitL1myxLpL3XRrdUhpmHVKpHX1+VbRPzohhBBFo4lOCCFE0WiiE0IIUTSKo+smKY2hK3zuS3bxq6++Gmzmq5w2bVq1/e53vzu0Mb6PeTRpe92NOfReeeWVYN91113B/v73v19t+7JDZo3XnxtGXmeo63/3Yy/ny28lL16d86qr2Xa6Rpcip42xvU5O1jq5LSdMmBDsW265Jdgf+tCHgj1y5Mhge+1s69atoY1aO69h0aJF1Tbz2zKO7swzzwz2Aw88EGwfe0sNnzF61PtS58j7kHsH+u+zLBHfY8SfVy6OUnF0QgghOh5NdEIIIYpGrsujhH/FuVR/yJAh1TZL+LDEjQ9FMIsuxeHDh4e2cePGBfv3f//3g83PexcA3Tq8BrJjx45q+8477wxtDz74YNNzNmt0a6Rcl3VSK9VdhlynknVP0lvO43hR5/3RkxXnmYrr1ltvrbZnz54d2vi8MN0eQ2686/P1118PbVOnTg022zds2FBt+9JaXR2HzxZdnXv27LFm8LhMMdhK3+Zc0O2irgvVTP/ohBBCFI4mOiGEEEWjiU4IIUTRdLRGl7qmnL+Z3cblw34pP8MH+Fkey5fxof+Zy5YnTZoU7Ouuuy7YvlwQz4OhCKeddlqwt2/fXm1TV6QOQM1uwYIFwV66dGm13ZO+/dSS6DrLobuy66SPUnjB0VN3PPgQGi5F91q5WWNJrClTpjQ97t133x3s6dOnB9s/W2Zme/fubbqv1atXNz2uWUwRtnHjxtBGDY5hDSzb49MAMqSIJcJaGZd1Qq5yz1Yrz4vCC4QQQnQ8muiEEEIUjSY6IYQQRSONrgmMMaNOwJI2jJXzehdLdPgUX10dy/v6X3zxxab7NWvUAuiT96l2Ro0aFdqo2bF98uTJ1TZLCw0dOjTY1EZWrVoV7Keffrrafu6550Ibr5GxPj5tEVMYMX6Pqcp8HCH1iTrxWWbxPp511lmhjeOBx/LXxGvoRPy4zJXE4rPHmLTf+73fq7ZnzJgR2tauXRvsH/7wh8Hev39/tU09j3C8MJWfHx/U4f0zbdY4Tv2+WQ6Iabq4L2pjL730UrXN56NO3GnddHukFf2vTtypNDohhBAdjyY6IYQQRaOJTgghRNFIo3PUibliDAl98uedd161TV8+9RxqeD4+J1eigvumT97rf4zd8fE2Zo26k9csmGOTOkku96fvnzPOOCO0Uc/ieXk9gzrBrl27gk39Yt++fdW2z91pZrZ48eJgM6cgz9OXPBk8eHBo4/1nKRV/XxgnRY2S+QdJT+XNrFsuxx+b51Enxurcc88N9u/+7u8Gm/kpqRf7/K7Udzdt2hRsHxtqFjU6xrr5NrPGcUlN298Xxrbx+tm3/hr4WebC5XuLY97HvLIcDveder/U1bBz30/RyjiWRieEEKLj0UQnhBCiaDTRCSGEKJqiNbpcfjVqDimNjhoMdTV244ABA6pt5pRkrBs1Gq+VMeaKWhjPk9qI1yyowV188cXBTuWzZN9RNzn77LODPXDgwKbt1O8Yg8hr9NfEe0aNwWtyZvEaGLvEz65fvz7Y/HwqTorjgf3htRLqqk899VSwly1bFmyOF3+f6uhoXdkpcjpb6r5Q37zsssuC/clPfrLa9nXczOKzY9aou1Er81rrkiVLQtu6deuCTU3XPxM+/sys8R7T5rPptTKOYdp8J/gxwf1yHLI/qPn78cLx0Z3abd2lTh1J0k5tWRqdEEKIjkcTnRBCiKIp2nWZI+Xa5LJcusjoEqCryqfxYQofv5TYrHGpvi/LweXRdOtwaTbL53i3B281l9OnlsjTFUm3FvuS/eX3xaX3dHPNnDkz2D60gZ+ly5BuHu/mo+uW6dR2794dbLoMvUsplx6J/eO/S5cpwxzoyqS7zdPKEvBcOAGvwYdXmEX39SWXXBLa5syZE2y61/wzQVcul9PnwkA8LGnD0BU+axdeeGG1zZCRJ598MthMXcd3hD8vuibpMuTY89/lOOR50bXJffsxULcsT53QlVbDD9qFXJdCCCE6Hk10QgghikYTnRBCiKLpaI2uFahv0OfuNS1qECxxQ23Ef5eldKhP5Erc+NRTXOJM3Y26ml8unSr/Y9YYMkDtzIcQUM+kZsf+8DoD+3nkyJHBpv7pj0utw6daM2vUP6kr+eXnXIrOdFFMxea10+XLl4e2VAons0ZNxuu21GT5nFJn8/eY94wlbpj2jffNH4v3jGOJtr9GjllqdOwPXtOkSZOq7dmzZ4c2Pj98Xp555plqe+vWraGNqdqYQo6vTv9MMNUYnxfaPu0br5fjkDo1x57v61xJqN6is7WCNDohhBAdjyY6IYQQRaOJTgghRNFIo2tC7nrpJ2csi7fpj8/FoPkYPH62znHNov+aGh31LupKXhtjPA41Ssbg8Tz896nnMD5r4sSJwfbaEOPkeB7UP71Gx8/mSqfw0fCf533hZ6lJea0k91nGXdL2cXjUlail8h77+0QdlWOL2unYsWOD7TVNX9Kpq8+y3cc0sj94DdQSqaX654f3hSnAVqxYEexFixZV29TVcjFo1Fb9eTNmk6WXGCvnr4H3gRpdTv/zUO/LpelKTQe9Vc+TRieEEKLj0UQnhBCiaDTRCSGEKJqO0uhaKe2ey33JfXu/ek5Xo67g42K8XmfWqEExnovn7XUp6gSMX2K5HK/h0NdPrYz6HzU7/31qgdSKqKXxWKlzZl+nhjfPmd/lvv15pfJgdvVdf994/9kfudgnr7sxFpLjhffB56dk3kfGnDFuLgX1LD4P1Aq9/pfTftg/zGfpYwkZ+8a4Oepqv/zlL6ttal+8h7wvfPb888QxTZ0tpfdRG2Xf8Tz4bHq7FU2OSKMTQggheima6IQQQhRNt12XdCeRnvob21v+LufOg64K7+rkd7k8mi7FVOVmLjWnW4cuVr9knsv4eR50x/nUZXTzpdycZo2uLO/q5TJ+QleN7wNeH49LN453E9J9xOPQpci+9/cxFwLA8eGvmcelTeja9tfMa/LpsMzMZs2aFWxf1omuWvYt2+nK9GOC95vfTZVXYr/zmuhiT7ku+SwtXLgw2KxA7sc87zcrmbO8Um7Mp+A1+meRzyFTfKVCiI4lveXdLNelEEKIjkcTnRBCiKLRRCeEEKJo2qbReXrLslPSSnhBXX90qiQ9NRfqXX5JOP313BeX3lMr8udBXYAaA/fl9Q7qSLk0ZrkUYR7qjNRk/DUztRJ1R/aP1+xy95/tKd2VOgm/Sx3S923uOLkSN77veR9YimjMmDHB9uEI1F35XdoXXnhhsEeNGlVtM8UXl8hTo/PXxOvnPWSaM1+myCzqcCylw31Tw/T35fHHHw9tS5cuDTafRd5j/3zxuAxrSKUX47OT07RT1H1v+WPnjtvO82wFaXRCCCE6Hk10QgghikYTnRBCiKLptkYnhBBCnIjoH50QQoii0UQnhBCiaDTRCSGEKBpNdEIIIYpGE50QQoii0UQnhBCiaDTRCSGEKBpNdEIIIYpGE50QQoii+X8eu8UidqmNYQAAAABJRU5ErkJggg==",
      "text/plain": [
       "<Figure size 640x480 with 1 Axes>"
      ]
     },
     "metadata": {},
     "output_type": "display_data"
    }
   ],
   "source": [
    "sample_image = f\"{images_path}/{os.listdir(images_path)[0]}\"\n",
    "visualization.show_image_from_path(sample_image)"
   ]
  },
  {
   "cell_type": "markdown",
   "metadata": {},
   "source": [
    "# Get Masks\n"
   ]
  },
  {
   "cell_type": "code",
   "execution_count": 8,
   "metadata": {},
   "outputs": [
    {
     "name": "stdout",
     "output_type": "stream",
     "text": [
      "IMAGE SAVING DONE!\n"
     ]
    }
   ],
   "source": [
    "files = os.listdir(images_path)\n",
    "\n",
    "mask = Mask(\n",
    "    file_info=frame_info,\n",
    "    amount_of_frames=2,\n",
    "    images_files_array=files,\n",
    "    files_path=images_path,\n",
    ")\n",
    "\n",
    "# mask.generate_masks(action=\"show\")\n",
    "mask.generate_masks(action=\"save\")"
   ]
  },
  {
   "cell_type": "code",
   "execution_count": 9,
   "metadata": {},
   "outputs": [
    {
     "data": {
      "image/png": "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",
      "text/plain": [
       "<Figure size 640x480 with 1 Axes>"
      ]
     },
     "metadata": {},
     "output_type": "display_data"
    }
   ],
   "source": [
    "sample_mask = f\"{masks_path}/{os.listdir(masks_path)[0]}\"\n",
    "visualization.show_image_from_path(sample_mask)"
   ]
  },
  {
   "cell_type": "markdown",
   "metadata": {},
   "source": [
    "# Heatmap Generation\n"
   ]
  },
  {
   "cell_type": "code",
   "execution_count": 9,
   "metadata": {},
   "outputs": [
    {
      "c:\\Users\\musel\\OneDrive\\Escritorio\\EchoNetDynamic\\scripts\\heatmapGeneration.py:147: RuntimeWarning: invalid value encountered in scalar divide\n",
     ]
    },
    {
     "ename": "IndexError",
     "evalue": "index 112 is out of bounds for axis 0 with size 112",
     "output_type": "error",
     "traceback": [
      "\u001b[1;31m---------------------------------------------------------------------------\u001b[0m",
      "\u001b[1;31mIndexError\u001b[0m                                Traceback (most recent call last)",
      "\u001b[1;32mc:\\Users\\musel\\OneDrive\\Escritorio\\EchoNetDynamic\\scripts\\dataExtraction.ipynb Cell 17\u001b[0m line \u001b[0;36m2\n\u001b[0;32m      <a href='vscode-notebook-cell:/c%3A/Users/musel/OneDrive/Escritorio/EchoNetDynamic/scripts/dataExtraction.ipynb#X22sZmlsZQ%3D%3D?line=0'>1</a>\u001b[0m heatmap \u001b[39m=\u001b[39m HeatmapGeneration(frame_info\u001b[39m=\u001b[39mframe_info, path_masks\u001b[39m=\u001b[39mmasks_path, path_tensors\u001b[39m=\u001b[39mheatmaps_path)\n\u001b[1;32m----> <a href='vscode-notebook-cell:/c%3A/Users/musel/OneDrive/Escritorio/EchoNetDynamic/scripts/dataExtraction.ipynb#X22sZmlsZQ%3D%3D?line=1'>2</a>\u001b[0m heatmap\u001b[39m.\u001b[39;49mheatmap(distribution\u001b[39m=\u001b[39;49m\u001b[39m\"\u001b[39;49m\u001b[39mGaussian\u001b[39;49m\u001b[39m\"\u001b[39;49m, num_lands\u001b[39m=\u001b[39;49m\u001b[39m7\u001b[39;49m)\n",
      "File \u001b[1;32mc:\\Users\\musel\\OneDrive\\Escritorio\\EchoNetDynamic\\scripts\\heatmapGeneration.py:70\u001b[0m, in \u001b[0;36mHeatmapGeneration.heatmap\u001b[1;34m(self, distribution, kernel_shape, morphological_iterations, save_as_tensor, radius, show, num_lands)\u001b[0m\n\u001b[0;32m     68\u001b[0m \u001b[39melif\u001b[39;00m distribution \u001b[39m==\u001b[39m \u001b[39m\"\u001b[39m\u001b[39mGaussian\u001b[39m\u001b[39m\"\u001b[39m:\n\u001b[0;32m     69\u001b[0m     path_tensor \u001b[39m=\u001b[39m os\u001b[39m.\u001b[39mpath\u001b[39m.\u001b[39mjoin(\u001b[39mself\u001b[39m\u001b[39m.\u001b[39mpath_toTensors, \u001b[39m\"\u001b[39m\u001b[39mgaussian\u001b[39m\u001b[39m\"\u001b[39m)\n\u001b[1;32m---> 70\u001b[0m     heatmap \u001b[39m=\u001b[39m \u001b[39mself\u001b[39;49m\u001b[39m.\u001b[39;49mgaussian_distribution(\n\u001b[0;32m     71\u001b[0m         area_pixel\u001b[39m.\u001b[39;49mshape, coor_x, coor_y, radius\n\u001b[0;32m     72\u001b[0m     )\n\u001b[0;32m     73\u001b[0m     heatmap \u001b[39m=\u001b[39m heatmap \u001b[39m*\u001b[39m contour\n\u001b[0;32m     74\u001b[0m     result_img[:, :, i] \u001b[39m=\u001b[39m heatmap\n",
      "File \u001b[1;32mc:\\Users\\musel\\OneDrive\\Escritorio\\EchoNetDynamic\\scripts\\heatmapGeneration.py:96\u001b[0m, in \u001b[0;36mHeatmapGeneration.gaussian_distribution\u001b[1;34m(self, shape, coor_x, coor_y, radius)\u001b[0m\n\u001b[0;32m     94\u001b[0m \u001b[39mdef\u001b[39;00m \u001b[39mgaussian_distribution\u001b[39m(\u001b[39mself\u001b[39m, shape, coor_x, coor_y, radius):\n\u001b[0;32m     95\u001b[0m     pixel \u001b[39m=\u001b[39m np\u001b[39m.\u001b[39mzeros(shape, dtype\u001b[39m=\u001b[39mnp\u001b[39m.\u001b[39muint8)\n\u001b[1;32m---> 96\u001b[0m     pixel[coor_y][coor_x] \u001b[39m=\u001b[39m \u001b[39m1.0\u001b[39m\n\u001b[0;32m     97\u001b[0m     variance \u001b[39m=\u001b[39m radius \u001b[39m/\u001b[39m \u001b[39m2\u001b[39m\n\u001b[0;32m     98\u001b[0m     gaussian_area \u001b[39m=\u001b[39m gaussian(pixel, sigma\u001b[39m=\u001b[39m[variance, variance])\n",
      "\u001b[1;31mIndexError\u001b[0m: index 112 is out of bounds for axis 0 with size 112"
     ]
    }
   ],
   "source": [
    "heatmap = HeatmapGeneration(frame_info=frame_info, path_masks=masks_path, path_tensors=heatmaps_path)\n",
    "heatmap.heatmap(distribution=\"Gaussian\", num_lands=7)"
   ]
  },
  {
   "cell_type": "code",
   "execution_count": null,
   "metadata": {},
   "outputs": [],
   "source": [
    "heatmap.heatmap(distribution=\"Euclidean\", num_lands=7)"
   ]
  },
  {
   "cell_type": "code",
   "execution_count": null,
   "metadata": {},
   "outputs": [
    {
     "data": {
      "image/png": "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",
      "text/plain": [
       "<Figure size 640x480 with 1 Axes>"
      ]
     },
     "metadata": {},
     "output_type": "display_data"
    }
   ],
   "source": [
    "sample_euclidean_path = (\n",
    "    f\"{heatmaps_path}/euclidean/{os.listdir(f'{heatmaps_path}/euclidean')[0]}\"\n",
    ")\n",
    "sample_euclidean_heatmap = torch.load(sample_euclidean_path)\n",
    "visualization.show_n_channel_image_tensor(sample_euclidean_heatmap)"
   ]
  },
  {
   "cell_type": "code",
   "execution_count": null,
   "metadata": {},
   "outputs": [
    {
     "data": {
      "image/png": "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",
      "text/plain": [
       "<Figure size 640x480 with 1 Axes>"
      ]
     },
     "metadata": {},
     "output_type": "display_data"
    }
   ],
   "source": [
    "sample_gaussian_path = (\n",
    "    f\"{heatmaps_path}/gaussian/{os.listdir(f'{heatmaps_path}/gaussian')[0]}\"\n",
    ")\n",
    "sample_gaussian_heatmap = torch.load(sample_gaussian_path)\n",
    "visualization.show_n_channel_image_tensor(sample_gaussian_heatmap)"
   ]
  }
 ],
 "metadata": {
  "kernelspec": {
   "display_name": "Python 3",
   "language": "python",
   "name": "python3"
  },
  "language_info": {
   "codemirror_mode": {
    "name": "ipython",
    "version": 3
   },
   "file_extension": ".py",
   "mimetype": "text/x-python",
   "name": "python",
   "nbconvert_exporter": "python",
   "pygments_lexer": "ipython3",
   "version": "3.10.13"
  }
 },
 "nbformat": 4,
 "nbformat_minor": 2
}
