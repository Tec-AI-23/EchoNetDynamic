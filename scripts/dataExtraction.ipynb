{
 "cells": [
  {
   "cell_type": "markdown",
   "metadata": {},
   "source": [
    "# Libraries\n"
   ]
  },
  {
   "cell_type": "code",
   "execution_count": 1,
   "metadata": {},
   "outputs": [],
   "source": [
    "import numpy as np\n",
    "import pandas as pd\n",
    "import os\n",
    "import matplotlib.pyplot as plt\n",
    "from frameExtraction import FrameExtraction\n",
    "from heatmapGeneration import HeatmapGeneration\n",
    "from masks import Mask\n",
    "from PIL import Image\n",
    "import torch\n",
    "import FILE_PATHS"
   ]
  },
  {
   "cell_type": "markdown",
   "metadata": {},
   "source": [
    "# Paths"
   ]
  },
  {
   "cell_type": "code",
   "execution_count": 2,
   "metadata": {},
   "outputs": [],
   "source": [
    "videos_csv = f\"{FILE_PATHS.ECHONET}/VolumeTracings.csv\"\n",
    "images_csv = f\"{FILE_PATHS.ECHONET}/images_info.csv\"\n",
    "images_path = FILE_PATHS.IMAGES\n",
    "videos_path = FILE_PATHS.VIDEOS\n",
    "masks_path = FILE_PATHS.MASKS\n",
    "heatmaps_path = FILE_PATHS.HEATMAPS"
   ]
  },
  {
   "cell_type": "markdown",
   "metadata": {},
   "source": [
    "## Create data directories"
   ]
  },
  {
   "cell_type": "code",
   "execution_count": 3,
   "metadata": {},
   "outputs": [],
   "source": [
    "folders = [\n",
    "    images_path,\n",
    "    videos_path,\n",
    "    masks_path,\n",
    "    heatmaps_path,\n",
    "    f\"{heatmaps_path}/gaussian\",\n",
    "    f\"{heatmaps_path}/euclidean\",\n",
    "]\n",
    "\n",
    "for folder in folders:\n",
    "    if not os.path.exists(folder):\n",
    "        os.makedirs(folder)"
   ]
  },
  {
   "cell_type": "markdown",
   "metadata": {},
   "source": [
    "# Save labeled frames\n"
   ]
  },
  {
   "cell_type": "code",
   "execution_count": 4,
   "metadata": {},
   "outputs": [],
   "source": [
    "def show_image_from_path(path):\n",
    "    plt.imshow(np.asarray(Image.open(path)))\n",
    "    plt.tight_layout()\n",
    "    plt.axis(\"off\")\n",
    "    plt.show()"
   ]
  },
  {
   "cell_type": "markdown",
   "metadata": {},
   "source": [
    "# Paths\n"
   ]
  },
  {
   "cell_type": "code",
   "execution_count": 3,
   "metadata": {},
   "outputs": [],
   "source": [
    "videos_csv = \"../EchoNet-Dynamic/VolumeTracings.csv\"\n",
    "images_csv = \"../EchoNet-Dynamic/images_info.csv\"\n",
    "images_path = \"../EchoNet-Dynamic/data/images\"\n",
    "videos_path = \"../EchoNet-Dynamic/videos\"\n",
    "masks_path = \"../EchoNet-Dynamic/data/masks\"\n",
    "heatmaps_path = \"../EchoNet-Dynamic/data/heatmaps\""
   ]
  },
  {
   "cell_type": "markdown",
   "metadata": {},
   "source": [
    "# Save Frames\n"
   ]
  },
  {
   "cell_type": "code",
   "execution_count": 4,
   "metadata": {},
   "outputs": [
    {
     "data": {
      "text/html": [
       "<div>\n",
       "<style scoped>\n",
       "    .dataframe tbody tr th:only-of-type {\n",
       "        vertical-align: middle;\n",
       "    }\n",
       "\n",
       "    .dataframe tbody tr th {\n",
       "        vertical-align: top;\n",
       "    }\n",
       "\n",
       "    .dataframe thead th {\n",
       "        text-align: right;\n",
       "    }\n",
       "</style>\n",
       "<table border=\"1\" class=\"dataframe\">\n",
       "  <thead>\n",
       "    <tr style=\"text-align: right;\">\n",
       "      <th></th>\n",
       "      <th>FileName</th>\n",
       "      <th>X1</th>\n",
       "      <th>Y1</th>\n",
       "      <th>X2</th>\n",
       "      <th>Y2</th>\n",
       "      <th>Frame</th>\n",
       "    </tr>\n",
       "  </thead>\n",
       "  <tbody>\n",
       "    <tr>\n",
       "      <th>0</th>\n",
       "      <td>0X100009310A3BD7FC.avi</td>\n",
       "      <td>51.260417</td>\n",
       "      <td>15.348958</td>\n",
       "      <td>64.932292</td>\n",
       "      <td>69.125000</td>\n",
       "      <td>46</td>\n",
       "    </tr>\n",
       "    <tr>\n",
       "      <th>1</th>\n",
       "      <td>0X100009310A3BD7FC.avi</td>\n",
       "      <td>50.037611</td>\n",
       "      <td>17.167841</td>\n",
       "      <td>53.367222</td>\n",
       "      <td>16.321330</td>\n",
       "      <td>46</td>\n",
       "    </tr>\n",
       "    <tr>\n",
       "      <th>2</th>\n",
       "      <td>0X100009310A3BD7FC.avi</td>\n",
       "      <td>49.157378</td>\n",
       "      <td>20.407629</td>\n",
       "      <td>57.090549</td>\n",
       "      <td>18.390722</td>\n",
       "      <td>46</td>\n",
       "    </tr>\n",
       "    <tr>\n",
       "      <th>3</th>\n",
       "      <td>0X100009310A3BD7FC.avi</td>\n",
       "      <td>48.538173</td>\n",
       "      <td>23.581055</td>\n",
       "      <td>59.997339</td>\n",
       "      <td>20.667707</td>\n",
       "      <td>46</td>\n",
       "    </tr>\n",
       "    <tr>\n",
       "      <th>4</th>\n",
       "      <td>0X100009310A3BD7FC.avi</td>\n",
       "      <td>47.918968</td>\n",
       "      <td>26.754480</td>\n",
       "      <td>62.904129</td>\n",
       "      <td>22.944693</td>\n",
       "      <td>46</td>\n",
       "    </tr>\n",
       "  </tbody>\n",
       "</table>\n",
       "</div>"
      ],
      "text/plain": [
       "                 FileName         X1         Y1         X2         Y2  Frame\n",
       "0  0X100009310A3BD7FC.avi  51.260417  15.348958  64.932292  69.125000     46\n",
       "1  0X100009310A3BD7FC.avi  50.037611  17.167841  53.367222  16.321330     46\n",
       "2  0X100009310A3BD7FC.avi  49.157378  20.407629  57.090549  18.390722     46\n",
       "3  0X100009310A3BD7FC.avi  48.538173  23.581055  59.997339  20.667707     46\n",
       "4  0X100009310A3BD7FC.avi  47.918968  26.754480  62.904129  22.944693     46"
      ]
     },
     "execution_count": 4,
     "metadata": {},
     "output_type": "execute_result"
    }
   ],
   "source": [
    "video_info = pd.read_csv(videos_csv)\n",
    "video_info.head()"
   ]
  },
  {
   "cell_type": "markdown",
   "metadata": {},
   "source": [
    "The FrameExtraction class simply extracts specific frames based on 'VolumeTracings.cvs' and save a .csv with all the landmarks sorted"
   ]
  },
  {
   "cell_type": "code",
   "execution_count": 5,
   "metadata": {},
   "outputs": [
    {
     "name": "stdout",
     "output_type": "stream",
     "text": [
      "¡Extraction Done!\n",
      "Path images:  ../EchoNet-Dynamic/data/images\n",
      "Path df:  ../EchoNet-Dynamic/images_info.csv\n"
     ]
    }
   ],
   "source": [
    "extraction = FrameExtraction(video_info=video_info)\n",
    "extraction.save_images()"
   ]
  },
  {
   "execution_count": 6,
   "metadata": {},
   "outputs": [
    {
     "data": {
      "text/html": [
       "<div>\n",
       "<style scoped>\n",
       "    .dataframe tbody tr th:only-of-type {\n",
       "        vertical-align: middle;\n",
       "    }\n",
       "\n",
       "    .dataframe tbody tr th {\n",
       "        vertical-align: top;\n",
       "    }\n",
       "\n",
       "    .dataframe thead th {\n",
       "        text-align: right;\n",
       "    }\n",
       "</style>\n",
       "<table border=\"1\" class=\"dataframe\">\n",
       "  <thead>\n",
       "    <tr style=\"text-align: right;\">\n",
       "      <th></th>\n",
       "      <th>File</th>\n",
       "      <th>X</th>\n",
       "      <th>Y</th>\n",
       "    </tr>\n",
       "  </thead>\n",
       "  <tbody>\n",
       "    <tr>\n",
       "      <th>0</th>\n",
       "      <td>0X7C076CFBDD1CB990_40.jpeg</td>\n",
       "      <td>52</td>\n",
       "      <td>45</td>\n",
       "    </tr>\n",
       "    <tr>\n",
       "      <th>1</th>\n",
       "      <td>0X7C076CFBDD1CB990_40.jpeg</td>\n",
       "      <td>52</td>\n",
       "      <td>42</td>\n",
       "    </tr>\n",
       "    <tr>\n",
       "      <th>2</th>\n",
       "      <td>0X7C076CFBDD1CB990_40.jpeg</td>\n",
       "      <td>52</td>\n",
       "      <td>39</td>\n",
       "    </tr>\n",
       "    <tr>\n",
       "      <th>3</th>\n",
       "      <td>0X7C076CFBDD1CB990_40.jpeg</td>\n",
       "      <td>52</td>\n",
       "      <td>35</td>\n",
       "    </tr>\n",
       "    <tr>\n",
       "      <th>4</th>\n",
       "      <td>0X7C076CFBDD1CB990_40.jpeg</td>\n",
       "      <td>52</td>\n",
       "      <td>32</td>\n",
       "    </tr>\n",
       "  </tbody>\n",
       "</table>\n",
       "</div>"
      ],
      "text/plain": [
       "                         File   X   Y\n",
       "0  0X7C076CFBDD1CB990_40.jpeg  52  45\n",
       "1  0X7C076CFBDD1CB990_40.jpeg  52  42\n",
       "2  0X7C076CFBDD1CB990_40.jpeg  52  39\n",
       "3  0X7C076CFBDD1CB990_40.jpeg  52  35\n",
       "4  0X7C076CFBDD1CB990_40.jpeg  52  32"
      ]
     },
     "execution_count": 6,
     "metadata": {},
     "output_type": "execute_result"
    }
   ],
   "source": [
    "frame_info = pd.read_csv(images_csv)\n",
    "frame_info.head()"
   ]
  },
  {
   "cell_type": "code",
   "execution_count": 7,
   "metadata": {},
   "outputs": [
    {
     "data": {
      "image/png": "[encoded data removed]",
      "text/plain": [
       "<Figure size 640x480 with 1 Axes>"
      ]
     },
     "metadata": {},
     "output_type": "display_data"
    }
   ],
   "source": [
    "sample_image = f\"{images_path}/{os.listdir(images_path)[0]}\"\n",
    "show_image_from_path(sample_image)"
   ]
  },
  {
   "cell_type": "markdown",
   "metadata": {},
   "source": [
    "# Get Masks\n"
   ]
  },
  {
   "cell_type": "code",
   "execution_count": 8,
   "metadata": {},
   "outputs": [
    {
     "name": "stdout",
     "output_type": "stream",
     "text": [
      "IMAGE SAVING DONE!\n"
     ]
    }
   ],
   "source": [
    "files = os.listdir(images_path)\n",
    "\n",
    "mask = Mask(\n",
    "    file_info=frame_info,\n",
    "    amount_of_frames=2,\n",
    "    images_files_array=files,\n",
    "    files_path=images_path,\n",
    ")\n",
    "\n",
    "#mask.generate_masks(action=\"show\")\n",
    "mask.generate_masks(action=\"save\")"
   ]
  },
  {
   "cell_type": "code",
   "execution_count": 9,
   "metadata": {},
   "outputs": [
    {
     "data": {
      "image/png": "[encoded data removed]",
      "text/plain": [
       "<Figure size 640x480 with 1 Axes>"
      ]
     },
     "metadata": {},
     "output_type": "display_data"
    }
   ],
   "source": [
    "sample_mask = f\"{masks_path}/{os.listdir(masks_path)[0]}\"\n",
    "show_image_from_path(sample_mask)"
   ]
  },
  {
   "cell_type": "markdown",
   "metadata": {},
   "source": [
    "# Heatmap Generation\n"
   ]
  },
  {
   "cell_type": "code",
   "execution_count": 10,
   "metadata": {},
   "outputs": [],
   "source": [
    "heatmap = HeatmapGeneration(frame_info=frame_info)\n",
    "heatmap.heatmap(distribution=\"Gaussian\")"
   ]
  },
  {
   "cell_type": "code",
   "execution_count": 11,
   "metadata": {},
   "outputs": [],
   "source": [
    "heatmap.heatmap(distribution=\"Euclidean\")"
   ]
  },
  {
   "cell_type": "code",
   "execution_count": 12,
   "metadata": {},
   "outputs": [],
   "source": [
    "def show_n_channel_image_tensor(tensor):\n",
    "    complete_image = tensor[0]\n",
    "    for channel in tensor[1:]:\n",
    "        complete_image += channel\n",
    "    plt.imshow(complete_image)\n",
    "    plt.tight_layout()\n",
    "    plt.axis(\"off\")\n",
    "    plt.show()"
   ]
  },
  {
   "cell_type": "code",
   "execution_count": 13,
   "metadata": {},
   "outputs": [
    {
     "data": {
      "image/png": "[encoded data removed]",
      "text/plain": [
       "<Figure size 640x480 with 1 Axes>"
      ]
     },
     "metadata": {},
     "output_type": "display_data"
    }
   ],
   "source": [
    "sample_euclidean_path = (\n",
    "    f\"{heatmaps_path}/euclidean/{os.listdir(f'{heatmaps_path}/euclidean')[0]}\"\n",
    ")\n",
    "sample_euclidean_heatmap = torch.load(sample_euclidean_path)\n",
    "show_n_channel_image_tensor(sample_euclidean_heatmap)"
   ]
  },
  {
   "cell_type": "code",
   "execution_count": 20,
   "metadata": {},
   "outputs": [
    {
     "data": {
      "image/png": "[encoded data removed]",
      "text/plain": [
       "<Figure size 640x480 with 1 Axes>"
      ]
     },
     "metadata": {},
     "output_type": "display_data"
    }
   ],
   "source": [
    "sample_gaussian_path = (\n",
    "    f\"{heatmaps_path}/gaussian/{os.listdir(f'{heatmaps_path}/gaussian')[3]}\"\n",
    ")\n",
    "sample_gaussian_heatmap = torch.load(sample_gaussian_path)\n",
    "show_n_channel_image_tensor(sample_gaussian_heatmap)"
   ]
  }
 ],
 "metadata": {
  "kernelspec": {
   "display_name": "Python 3",
   "language": "python",
   "name": "python3"
  },
  "language_info": {
   "codemirror_mode": {
    "name": "ipython",
    "version": 3
   },
   "file_extension": ".py",
   "mimetype": "text/x-python",
   "name": "python",
   "nbconvert_exporter": "python",
   "pygments_lexer": "ipython3",
   "version": "3.8.10"
  }
 },
 "nbformat": 4,
 "nbformat_minor": 2
}
