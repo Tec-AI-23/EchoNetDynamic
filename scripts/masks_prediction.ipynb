{
 "cells": [
  {
   "cell_type": "code",
   "execution_count": 1,
   "metadata": {},
   "outputs": [],
   "source": [
    "import cv2\n",
    "import torch\n",
    "import torch.nn as nn\n",
    "import matplotlib.pyplot as plt\n",
    "import numpy as np\n",
    "import os\n",
    "import FILE_PATHS\n",
    "from model import UNET\n",
    "import masks_prediction"
   ]
  },
  {
   "cell_type": "markdown",
   "metadata": {},
   "source": [
    "# Model load"
   ]
  },
  {
   "cell_type": "code",
   "execution_count": 2,
   "metadata": {},
   "outputs": [],
   "source": [
    "# Hyperparameters\n",
    "LEARNING_RATE = 1e-4\n",
    "DEVICE = \"cuda\" if torch.cuda.is_available() else \"cpu\"\n",
    "BATCH_SIZE = 64\n",
    "NUM_EPOCHS = 20\n",
    "NUM_WORKERS = 4\n",
    "IMAGE_HEIGHT = 112\n",
    "IMAGE_WIDTH = 112\n",
    "PIN_MEMORY = True\n",
    "LOAD_MODEL = False\n",
    "\n",
    "model_path = \"../EchoNet-Dynamic/models/mask_model_old.pt\""
   ]
  },
  {
   "cell_type": "code",
   "execution_count": 3,
   "metadata": {},
   "outputs": [
    {
     "name": "stdout",
     "output_type": "stream",
     "text": [
      "\n"
     ]
    }
   ],
   "source": [
    "MODEL = torch.load(model_path)\n",
    "MODEL.eval()\n",
    "print()"
   ]
  },
  {
   "cell_type": "markdown",
   "metadata": {},
   "source": [
    "# Video preparation\n",
    "\n",
    "- Get paths\n",
    "- Extract frames and predict per frame\n",
    "- Overlay predicted mask to frame\n",
    "- Generate videos with overlayed frames"
   ]
  },
  {
   "cell_type": "code",
   "execution_count": 4,
   "metadata": {},
   "outputs": [],
   "source": [
    "videos_path = f\"{FILE_PATHS.NEW_DATA}/videos\"\n",
    "videos_filesnames = os.listdir(videos_path)"
   ]
  },
  {
   "cell_type": "markdown",
   "metadata": {},
   "source": [
    "### Single file for visualization\n",
    "\n",
    "(Excludes video generation)"
   ]
  },
  {
   "cell_type": "code",
   "execution_count": 5,
   "metadata": {},
   "outputs": [],
   "source": [
    "sample_vid_path = \"../EchoNet-Dynamic/videos/0X1A0A263B22CCD966.avi\"\n",
    "\n",
    "frames_list, predictions_list = masks_prediction.read_video_and_predict(\n",
    "    sample_vid_path, model=MODEL\n",
    ")"
   ]
  },
  {
   "cell_type": "code",
   "execution_count": 6,
   "metadata": {},
   "outputs": [],
   "source": [
    "frame_list = []\n",
    "for frame, mask in zip(frames_list, predictions_list):\n",
    "    frame = masks_prediction.preprocess_raw_frame(frame)\n",
    "    result_image = masks_prediction.overlay_mask_on_frame(frame, mask)\n",
    "    frame_list.append(result_image)"
   ]
  },
  {
   "cell_type": "markdown",
   "metadata": {},
   "source": [
    "# Full video generation"
   ]
  },
  {
   "cell_type": "code",
   "execution_count": 7,
   "metadata": {},
   "outputs": [],
   "source": [
    "results_path = f\"{FILE_PATHS.PREDICTIONS}/masks\"\n",
    "if not os.path.exists(results_path):\n",
    "    os.makedirs(results_path)\n",
    "\n",
    "predicted_videos = set(os.listdir(results_path))\n",
    "video_extensions = set([\".mp4\", \".avi\"])"
   ]
  },
  {
   "cell_type": "code",
   "execution_count": 8,
   "metadata": {},
   "outputs": [],
   "source": [
    "for video_name in videos_filesnames:\n",
    "    _, extension = os.path.splitext(video_name)\n",
    "    if extension not in video_extensions:\n",
    "        continue\n",
    "\n",
    "    video_path = videos_path + \"/\" + video_name\n",
    "    frames_list, predictions_list = masks_prediction.read_video_and_predict(\n",
    "        video_path, model=MODEL\n",
    "    )\n",
    "\n",
    "    overlayed_frames = []\n",
    "    for frame, mask in zip(frames_list, predictions_list):\n",
    "        frame = masks_prediction.preprocess_raw_frame(frame)\n",
    "        result_image = masks_prediction.overlay_mask_on_frame(frame, mask)\n",
    "        overlayed_frames.append(result_image)\n",
    "\n",
    "    masks_prediction.generate_video_from_list_of_frames(\n",
    "        overlayed_frames, f\"../EchoNet-Dynamic/results/masks/{video_name}\", 20.0\n",
    "    )"
   ]
  },
  {
   "cell_type": "markdown",
   "metadata": {},
   "source": [
    "# Epochs evolution"
   ]
  },
  {
   "cell_type": "code",
   "execution_count": 44,
   "metadata": {},
   "outputs": [],
   "source": [
    "epochs_path = f\"{FILE_PATHS.PREDICTIONS}/masks/test_epochs\"\n",
    "if not os.path.exists(epochs_path):\n",
    "    os.makedirs(epochs_path)\n",
    "\n",
    "epochs_file_content = set(os.listdir(epochs_path))\n",
    "epochs_frame_list = []\n",
    "for i, filename in enumerate(epochs_file_content):\n",
    "    _, extension = os.path.splitext(filename)\n",
    "    if extension in video_extensions:\n",
    "        continue\n",
    "\n",
    "    epoch_frame_raw = cv2.imread(f\"{epochs_path}/{filename}\")\n",
    "    font = cv2.FONT_HERSHEY_DUPLEX\n",
    "    font_scale = 2\n",
    "    font_color = (150, 255, 150)\n",
    "    font_thickness = 4\n",
    "    text_pos = (10, 50)\n",
    "    epoch_frame = epoch_frame_raw.copy()\n",
    "    epoch_text = f\"Epoch {i+1}\"\n",
    "    cv2.putText(\n",
    "        epoch_frame, epoch_text, text_pos, font, font_scale, font_color, font_thickness\n",
    "    )\n",
    "    epochs_frame_list.append(epoch_frame)\n",
    "    # repeat first and last frame to make it longer\n",
    "    if i == 0 or i == len(epochs_file_content) - 1:\n",
    "        for i in range(10):\n",
    "            epochs_frame_list.append(epoch_frame)"
   ]
  },
  {
   "cell_type": "code",
   "execution_count": 45,
   "metadata": {},
   "outputs": [],
   "source": [
    "result_video_path = f\"{epochs_path}/epochs_evolution.avi\"\n",
    "masks_prediction.generate_video_from_list_of_frames(\n",
    "    epochs_frame_list, result_video_path, 10.0\n",
    ")"
   ]
  }
 ],
 "metadata": {
  "kernelspec": {
   "display_name": "Python 3",
   "language": "python",
   "name": "python3"
  },
  "language_info": {
   "codemirror_mode": {
    "name": "ipython",
    "version": 3
   },
   "file_extension": ".py",
   "mimetype": "text/x-python",
   "name": "python",
   "nbconvert_exporter": "python",
   "pygments_lexer": "ipython3",
   "version": "3.11.3"
  }
 },
 "nbformat": 4,
 "nbformat_minor": 2
}
