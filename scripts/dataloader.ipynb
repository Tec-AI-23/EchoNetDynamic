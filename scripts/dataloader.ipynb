{
 "cells": [
  {
   "cell_type": "code",
   "execution_count": 1,
   "metadata": {},
   "outputs": [],
   "source": [
    "import os\n",
    "from dataset import EchoDatasetMasks\n",
    "from dataset import EchoDatasetHeatmap\n",
    "from PIL import Image\n",
    "import torch\n",
    "from torch.utils.data import Dataset, DataLoader, random_split\n",
    "from sklearn.model_selection import train_test_split\n",
    "import FILE_PATHS\n",
    "\n",
    "# transforms\n",
    "from torchvision import transforms\n",
    "import albumentations as A\n",
    "from albumentations.pytorch import ToTensorV2\n"
   ]
  },
  {
   "cell_type": "code",
   "execution_count": 2,
   "metadata": {},
   "outputs": [],
   "source": [
    "def get_loaders_masks(\n",
    "    images_dir,\n",
    "    masks_dir,\n",
    "    batch_size,\n",
    "    train_transform,\n",
    "    val_transform,\n",
    "    num_workers=4,\n",
    "    test_size=0.2,\n",
    "    pin_memory=True,\n",
    "):\n",
    "    image_paths = [os.path.join(images_dir, img) for img in os.listdir(images_dir)]\n",
    "    mask_paths = [os.path.join(masks_dir, mask) for mask in os.listdir(masks_dir)]\n",
    "\n",
    "    (\n",
    "        train_image_paths,\n",
    "        val_image_paths,\n",
    "        train_mask_paths,\n",
    "        val_mask_paths,\n",
    "    ) = train_test_split(image_paths, mask_paths, test_size=test_size, random_state=42)\n",
    "\n",
    "    print(train_image_paths)\n",
    "    print(val_image_paths)\n",
    "    print(train_mask_paths)\n",
    "    print(val_mask_paths)\n",
    "\n",
    "    train_dataset = EchoDatasetMasks(\n",
    "        train_image_paths, train_mask_paths, transform=train_transform\n",
    "    )\n",
    "    val_dataset = EchoDatasetMasks(\n",
    "        val_image_paths, val_mask_paths, transform=val_transform\n",
    "    )\n",
    "\n",
    "    train_loader = DataLoader(\n",
    "        train_dataset,\n",
    "        batch_size=batch_size,\n",
    "        num_workers=num_workers,\n",
    "        pin_memory=pin_memory,\n",
    "        shuffle=True,\n",
    "    )\n",
    "\n",
    "    val_loader = DataLoader(\n",
    "        val_dataset,\n",
    "        batch_size=batch_size,\n",
    "        num_workers=num_workers,\n",
    "        pin_memory=pin_memory,\n",
    "        shuffle=False,\n",
    "    )\n",
    "\n",
    "    return train_loader, val_loader"
   ]
  },
  {
   "cell_type": "code",
   "execution_count": 3,
   "metadata": {},
   "outputs": [],
   "source": [
    "LEARNING_RATE = 1e-4\n",
    "DEVICE = \"cuda\" if torch.cuda.is_available() else \"cpu\"\n",
    "BATCH_SIZE = 32\n",
    "NUM_EPOCHS = 12\n",
    "NUM_WORKERS = 8\n",
    "IMAGE_HEIGHT = 112\n",
    "IMAGE_WIDTH = 112\n",
    "PIN_MEMORY = True\n",
    "LOAD_MODEL = False"
   ]
  },
  {
   "cell_type": "code",
   "execution_count": 4,
   "metadata": {},
   "outputs": [],
   "source": [
    "train_transforms = A.Compose(\n",
    "    [\n",
    "        A.Resize(height=IMAGE_HEIGHT, width=IMAGE_WIDTH),\n",
    "        # A.Rotate(limit=35, p=1.0),\n",
    "        # A.HorizontalFlip(p=0.5),\n",
    "        # A.VerticalFlip(p=0.1),\n",
    "        A.Normalize(\n",
    "            mean=[0.0, 0.0, 0.0],\n",
    "            std=[1.0, 1.0, 1.0],\n",
    "            max_pixel_value=255.0,\n",
    "        ),\n",
    "        ToTensorV2(),\n",
    "    ],\n",
    ")\n",
    "\n",
    "val_transforms = A.Compose(\n",
    "    [\n",
    "        A.Resize(height=IMAGE_HEIGHT, width=IMAGE_WIDTH),\n",
    "        A.Normalize(\n",
    "            mean=[0.0, 0.0, 0.0],\n",
    "            std=[1.0, 1.0, 1.0],\n",
    "            max_pixel_value=255.0,\n",
    "        ),\n",
    "        ToTensorV2(),\n",
    "    ],\n",
    ")"
   ]
  },
  {
   "cell_type": "code",
   "execution_count": 5,
   "metadata": {},
   "outputs": [
    {
     "name": "stdout",
     "output_type": "stream",
     "text": [
      "['../EchoNet-Dynamic/data/images\\\\0X1A2C60147AF9FDAE_62.jpeg', '../EchoNet-Dynamic/data/images\\\\0X1A3D565B371DC573_152.jpeg', '../EchoNet-Dynamic/data/images\\\\0X1A5FAE3F9D37794E_35.jpeg', '../EchoNet-Dynamic/data/images\\\\0X1A2C60147AF9FDAE_46.jpeg']\n",
      "['../EchoNet-Dynamic/data/images\\\\0X1A05DFFFCAFB253B_48.jpeg', '../EchoNet-Dynamic/data/images\\\\0X1A6ACFE7B286DAFC_142.jpeg', '../EchoNet-Dynamic/data/images\\\\0X1A5FAE3F9D37794E_48.jpeg', '../EchoNet-Dynamic/data/images\\\\0X1A05DFFFCAFB253B_68.jpeg', '../EchoNet-Dynamic/data/images\\\\0X1A2E9496910EFF5B_39.jpeg', '../EchoNet-Dynamic/data/images\\\\0X1A2A76BDB5B98BED_78.jpeg', '../EchoNet-Dynamic/data/images\\\\0X1A3D565B371DC573_176.jpeg', '../EchoNet-Dynamic/data/images\\\\0X1A0A263B22CCD966_83.jpeg', '../EchoNet-Dynamic/data/images\\\\0X1A8D85542DBE8204_117.jpeg', '../EchoNet-Dynamic/data/images\\\\0X1A6ACFE7B286DAFC_124.jpeg', '../EchoNet-Dynamic/data/images\\\\0X1A3E7BF1DFB132FB_73.jpeg', '../EchoNet-Dynamic/data/images\\\\0X1A0A263B22CCD966_72.jpeg', '../EchoNet-Dynamic/data/images\\\\0X1A2E9496910EFF5B_55.jpeg', '../EchoNet-Dynamic/data/images\\\\0X1A8D85542DBE8204_91.jpeg', '../EchoNet-Dynamic/data/images\\\\0X1A2A76BDB5B98BED_63.jpeg', '../EchoNet-Dynamic/data/images\\\\0X1A3E7BF1DFB132FB_55.jpeg']\n",
      "['../EchoNet-Dynamic/data/masks\\\\0X1A2C60147AF9FDAE_62.jpeg', '../EchoNet-Dynamic/data/masks\\\\0X1A3D565B371DC573_152.jpeg', '../EchoNet-Dynamic/data/masks\\\\0X1A5FAE3F9D37794E_35.jpeg', '../EchoNet-Dynamic/data/masks\\\\0X1A2C60147AF9FDAE_46.jpeg']\n",
      "['../EchoNet-Dynamic/data/masks\\\\0X1A05DFFFCAFB253B_48.jpeg', '../EchoNet-Dynamic/data/masks\\\\0X1A6ACFE7B286DAFC_142.jpeg', '../EchoNet-Dynamic/data/masks\\\\0X1A5FAE3F9D37794E_48.jpeg', '../EchoNet-Dynamic/data/masks\\\\0X1A05DFFFCAFB253B_68.jpeg', '../EchoNet-Dynamic/data/masks\\\\0X1A2E9496910EFF5B_39.jpeg', '../EchoNet-Dynamic/data/masks\\\\0X1A2A76BDB5B98BED_78.jpeg', '../EchoNet-Dynamic/data/masks\\\\0X1A3D565B371DC573_176.jpeg', '../EchoNet-Dynamic/data/masks\\\\0X1A0A263B22CCD966_83.jpeg', '../EchoNet-Dynamic/data/masks\\\\0X1A8D85542DBE8204_117.jpeg', '../EchoNet-Dynamic/data/masks\\\\0X1A6ACFE7B286DAFC_124.jpeg', '../EchoNet-Dynamic/data/masks\\\\0X1A3E7BF1DFB132FB_73.jpeg', '../EchoNet-Dynamic/data/masks\\\\0X1A0A263B22CCD966_72.jpeg', '../EchoNet-Dynamic/data/masks\\\\0X1A2E9496910EFF5B_55.jpeg', '../EchoNet-Dynamic/data/masks\\\\0X1A8D85542DBE8204_91.jpeg', '../EchoNet-Dynamic/data/masks\\\\0X1A2A76BDB5B98BED_63.jpeg', '../EchoNet-Dynamic/data/masks\\\\0X1A3E7BF1DFB132FB_55.jpeg']\n"
     ]
    }
   ],
   "source": [
    "train_loader, val_loader = get_loaders_masks(\n",
    "    FILE_PATHS.IMAGES,\n",
    "    FILE_PATHS.MASKS,\n",
    "    BATCH_SIZE,\n",
    "    train_transforms,\n",
    "    val_transforms,\n",
    "    NUM_WORKERS,\n",
    "    test_size=0.8,\n",
    ")"
   ]
  }
 ],
 "metadata": {
  "kernelspec": {
   "display_name": "Python 3",
   "language": "python",
   "name": "python3"
  },
  "language_info": {
   "codemirror_mode": {
    "name": "ipython",
    "version": 3
   },
   "file_extension": ".py",
   "mimetype": "text/x-python",
   "name": "python",
   "nbconvert_exporter": "python",
   "pygments_lexer": "ipython3",
   "version": "3.11.3"
  }
 },
 "nbformat": 4,
 "nbformat_minor": 2
}
