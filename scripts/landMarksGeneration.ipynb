{
 "cells": [
  {
   "cell_type": "markdown",
   "metadata": {},
   "source": [
    "# Libraries"
   ]
  },
  {
   "cell_type": "code",
   "execution_count": 1,
   "metadata": {},
   "outputs": [],
   "source": [
    "import cv2\n",
    "import numpy as np\n",
    "import pandas as pd\n",
    "import os\n",
    "import matplotlib.pyplot as plt\n",
    "import pixel_expand\n",
    "from frameExtraction import FrameExtraction\n",
    "from heatmapGeneration import HeatmapGeneration\n",
    "from masks import Mask\n",
    "from skimage.filters import gaussian"
   ]
  },
  {
   "cell_type": "markdown",
   "metadata": {},
   "source": [
    "# Paths"
   ]
  },
  {
   "cell_type": "code",
   "execution_count": 2,
   "metadata": {},
   "outputs": [],
   "source": [
    "videos_csv = '../EchoNet-Dynamic/VolumeTracings.csv'\n",
    "images_csv = '../EchoNet-Dynamic/images_info.csv'\n",
    "images_path = '../EchoNet-Dynamic/images/'\n",
    "videos_path = '../EchoNet-Dynamic/videos/'\n",
    "masks_path = '../EchoNet-Dynamic/masked/'"
   ]
  },
  {
   "cell_type": "markdown",
   "metadata": {},
   "source": [
    "# Save Frames"
   ]
  },
  {
   "cell_type": "code",
   "execution_count": 3,
   "metadata": {},
   "outputs": [
    {
     "data": {
      "text/html": [
       "<div>\n",
       "<style scoped>\n",
       "    .dataframe tbody tr th:only-of-type {\n",
       "        vertical-align: middle;\n",
       "    }\n",
       "\n",
       "    .dataframe tbody tr th {\n",
       "        vertical-align: top;\n",
       "    }\n",
       "\n",
       "    .dataframe thead th {\n",
       "        text-align: right;\n",
       "    }\n",
       "</style>\n",
       "<table border=\"1\" class=\"dataframe\">\n",
       "  <thead>\n",
       "    <tr style=\"text-align: right;\">\n",
       "      <th></th>\n",
       "      <th>FileName</th>\n",
       "      <th>X1</th>\n",
       "      <th>Y1</th>\n",
       "      <th>X2</th>\n",
       "      <th>Y2</th>\n",
       "      <th>Frame</th>\n",
       "    </tr>\n",
       "  </thead>\n",
       "  <tbody>\n",
       "    <tr>\n",
       "      <th>0</th>\n",
       "      <td>0X100009310A3BD7FC.avi</td>\n",
       "      <td>51.260417</td>\n",
       "      <td>15.348958</td>\n",
       "      <td>64.932292</td>\n",
       "      <td>69.125000</td>\n",
       "      <td>46</td>\n",
       "    </tr>\n",
       "    <tr>\n",
       "      <th>1</th>\n",
       "      <td>0X100009310A3BD7FC.avi</td>\n",
       "      <td>50.037611</td>\n",
       "      <td>17.167841</td>\n",
       "      <td>53.367222</td>\n",
       "      <td>16.321330</td>\n",
       "      <td>46</td>\n",
       "    </tr>\n",
       "    <tr>\n",
       "      <th>2</th>\n",
       "      <td>0X100009310A3BD7FC.avi</td>\n",
       "      <td>49.157378</td>\n",
       "      <td>20.407629</td>\n",
       "      <td>57.090549</td>\n",
       "      <td>18.390722</td>\n",
       "      <td>46</td>\n",
       "    </tr>\n",
       "    <tr>\n",
       "      <th>3</th>\n",
       "      <td>0X100009310A3BD7FC.avi</td>\n",
       "      <td>48.538173</td>\n",
       "      <td>23.581055</td>\n",
       "      <td>59.997339</td>\n",
       "      <td>20.667707</td>\n",
       "      <td>46</td>\n",
       "    </tr>\n",
       "    <tr>\n",
       "      <th>4</th>\n",
       "      <td>0X100009310A3BD7FC.avi</td>\n",
       "      <td>47.918968</td>\n",
       "      <td>26.754480</td>\n",
       "      <td>62.904129</td>\n",
       "      <td>22.944693</td>\n",
       "      <td>46</td>\n",
       "    </tr>\n",
       "  </tbody>\n",
       "</table>\n",
       "</div>"
      ],
      "text/plain": [
       "                 FileName         X1         Y1         X2         Y2  Frame\n",
       "0  0X100009310A3BD7FC.avi  51.260417  15.348958  64.932292  69.125000     46\n",
       "1  0X100009310A3BD7FC.avi  50.037611  17.167841  53.367222  16.321330     46\n",
       "2  0X100009310A3BD7FC.avi  49.157378  20.407629  57.090549  18.390722     46\n",
       "3  0X100009310A3BD7FC.avi  48.538173  23.581055  59.997339  20.667707     46\n",
       "4  0X100009310A3BD7FC.avi  47.918968  26.754480  62.904129  22.944693     46"
      ]
     },
     "execution_count": 3,
     "metadata": {},
     "output_type": "execute_result"
    }
   ],
   "source": [
    "video_info = pd.read_csv(videos_csv)\n",
    "video_info.head()"
   ]
  },
  {
   "cell_type": "markdown",
   "metadata": {},
   "source": [
    "The FrameExtraction class simply extracts specific frames based on 'VolumeTracings.cvs' and save a .csv with all the landmarks or an specific number of them, it depends of 'num_landmarks' param."
   ]
  },
  {
   "cell_type": "code",
   "execution_count": 4,
   "metadata": {},
   "outputs": [
    {
     "name": "stdout",
     "output_type": "stream",
     "text": [
      "¡Straction Done!\n",
      "Path images:  ../EchoNet-Dynamic/images/\n",
      "Path df:  ../EchoNet-Dynamic/images_info.csv\n"
     ]
    }
   ],
   "source": [
    "Extraction = FrameExtraction(video_info=video_info)\n",
    "Extraction.save_images(num_landmarks=5)"
   ]
  },
  {
   "cell_type": "code",
   "execution_count": 5,
   "metadata": {},
   "outputs": [
    {
     "data": {
      "text/html": [
       "<div>\n",
       "<style scoped>\n",
       "    .dataframe tbody tr th:only-of-type {\n",
       "        vertical-align: middle;\n",
       "    }\n",
       "\n",
       "    .dataframe tbody tr th {\n",
       "        vertical-align: top;\n",
       "    }\n",
       "\n",
       "    .dataframe thead th {\n",
       "        text-align: right;\n",
       "    }\n",
       "</style>\n",
       "<table border=\"1\" class=\"dataframe\">\n",
       "  <thead>\n",
       "    <tr style=\"text-align: right;\">\n",
       "      <th></th>\n",
       "      <th>File</th>\n",
       "      <th>X</th>\n",
       "      <th>Y</th>\n",
       "    </tr>\n",
       "  </thead>\n",
       "  <tbody>\n",
       "    <tr>\n",
       "      <th>0</th>\n",
       "      <td>0X7C076CFBDD1CB990_40.jpeg</td>\n",
       "      <td>58</td>\n",
       "      <td>16</td>\n",
       "    </tr>\n",
       "    <tr>\n",
       "      <th>1</th>\n",
       "      <td>0X7C076CFBDD1CB990_40.jpeg</td>\n",
       "      <td>85</td>\n",
       "      <td>75</td>\n",
       "    </tr>\n",
       "    <tr>\n",
       "      <th>2</th>\n",
       "      <td>0X7C076CFBDD1CB990_40.jpeg</td>\n",
       "      <td>52</td>\n",
       "      <td>49</td>\n",
       "    </tr>\n",
       "    <tr>\n",
       "      <th>3</th>\n",
       "      <td>0X7C076CFBDD1CB990_40.jpeg</td>\n",
       "      <td>71</td>\n",
       "      <td>78</td>\n",
       "    </tr>\n",
       "    <tr>\n",
       "      <th>4</th>\n",
       "      <td>0X7C076CFBDD1CB990_40.jpeg</td>\n",
       "      <td>79</td>\n",
       "      <td>43</td>\n",
       "    </tr>\n",
       "    <tr>\n",
       "      <th>5</th>\n",
       "      <td>0X7C076CFBDD1CB990_56.jpeg</td>\n",
       "      <td>61</td>\n",
       "      <td>18</td>\n",
       "    </tr>\n",
       "    <tr>\n",
       "      <th>6</th>\n",
       "      <td>0X7C076CFBDD1CB990_56.jpeg</td>\n",
       "      <td>80</td>\n",
       "      <td>64</td>\n",
       "    </tr>\n",
       "    <tr>\n",
       "      <th>7</th>\n",
       "      <td>0X7C076CFBDD1CB990_56.jpeg</td>\n",
       "      <td>57</td>\n",
       "      <td>42</td>\n",
       "    </tr>\n",
       "    <tr>\n",
       "      <th>8</th>\n",
       "      <td>0X7C076CFBDD1CB990_56.jpeg</td>\n",
       "      <td>67</td>\n",
       "      <td>67</td>\n",
       "    </tr>\n",
       "    <tr>\n",
       "      <th>9</th>\n",
       "      <td>0X7C076CFBDD1CB990_56.jpeg</td>\n",
       "      <td>74</td>\n",
       "      <td>40</td>\n",
       "    </tr>\n",
       "    <tr>\n",
       "      <th>10</th>\n",
       "      <td>0X535B7884988ACFBC_58.jpeg</td>\n",
       "      <td>52</td>\n",
       "      <td>19</td>\n",
       "    </tr>\n",
       "    <tr>\n",
       "      <th>11</th>\n",
       "      <td>0X535B7884988ACFBC_58.jpeg</td>\n",
       "      <td>77</td>\n",
       "      <td>65</td>\n",
       "    </tr>\n",
       "    <tr>\n",
       "      <th>12</th>\n",
       "      <td>0X535B7884988ACFBC_58.jpeg</td>\n",
       "      <td>49</td>\n",
       "      <td>45</td>\n",
       "    </tr>\n",
       "    <tr>\n",
       "      <th>13</th>\n",
       "      <td>0X535B7884988ACFBC_58.jpeg</td>\n",
       "      <td>64</td>\n",
       "      <td>66</td>\n",
       "    </tr>\n",
       "    <tr>\n",
       "      <th>14</th>\n",
       "      <td>0X535B7884988ACFBC_58.jpeg</td>\n",
       "      <td>74</td>\n",
       "      <td>39</td>\n",
       "    </tr>\n",
       "    <tr>\n",
       "      <th>15</th>\n",
       "      <td>0X535B7884988ACFBC_79.jpeg</td>\n",
       "      <td>56</td>\n",
       "      <td>14</td>\n",
       "    </tr>\n",
       "    <tr>\n",
       "      <th>16</th>\n",
       "      <td>0X535B7884988ACFBC_79.jpeg</td>\n",
       "      <td>74</td>\n",
       "      <td>61</td>\n",
       "    </tr>\n",
       "    <tr>\n",
       "      <th>17</th>\n",
       "      <td>0X535B7884988ACFBC_79.jpeg</td>\n",
       "      <td>53</td>\n",
       "      <td>38</td>\n",
       "    </tr>\n",
       "    <tr>\n",
       "      <th>18</th>\n",
       "      <td>0X535B7884988ACFBC_79.jpeg</td>\n",
       "      <td>62</td>\n",
       "      <td>62</td>\n",
       "    </tr>\n",
       "    <tr>\n",
       "      <th>19</th>\n",
       "      <td>0X535B7884988ACFBC_79.jpeg</td>\n",
       "      <td>70</td>\n",
       "      <td>36</td>\n",
       "    </tr>\n",
       "  </tbody>\n",
       "</table>\n",
       "</div>"
      ],
      "text/plain": [
       "                          File   X   Y\n",
       "0   0X7C076CFBDD1CB990_40.jpeg  58  16\n",
       "1   0X7C076CFBDD1CB990_40.jpeg  85  75\n",
       "2   0X7C076CFBDD1CB990_40.jpeg  52  49\n",
       "3   0X7C076CFBDD1CB990_40.jpeg  71  78\n",
       "4   0X7C076CFBDD1CB990_40.jpeg  79  43\n",
       "5   0X7C076CFBDD1CB990_56.jpeg  61  18\n",
       "6   0X7C076CFBDD1CB990_56.jpeg  80  64\n",
       "7   0X7C076CFBDD1CB990_56.jpeg  57  42\n",
       "8   0X7C076CFBDD1CB990_56.jpeg  67  67\n",
       "9   0X7C076CFBDD1CB990_56.jpeg  74  40\n",
       "10  0X535B7884988ACFBC_58.jpeg  52  19\n",
       "11  0X535B7884988ACFBC_58.jpeg  77  65\n",
       "12  0X535B7884988ACFBC_58.jpeg  49  45\n",
       "13  0X535B7884988ACFBC_58.jpeg  64  66\n",
       "14  0X535B7884988ACFBC_58.jpeg  74  39\n",
       "15  0X535B7884988ACFBC_79.jpeg  56  14\n",
       "16  0X535B7884988ACFBC_79.jpeg  74  61\n",
       "17  0X535B7884988ACFBC_79.jpeg  53  38\n",
       "18  0X535B7884988ACFBC_79.jpeg  62  62\n",
       "19  0X535B7884988ACFBC_79.jpeg  70  36"
      ]
     },
     "execution_count": 5,
     "metadata": {},
     "output_type": "execute_result"
    }
   ],
   "source": [
    "frame_info = pd.read_csv(images_csv)\n",
    "frame_info"
   ]
  },
  {
   "cell_type": "markdown",
   "metadata": {},
   "source": [
    "# Get Masks"
   ]
  },
  {
   "cell_type": "code",
   "execution_count": 6,
   "metadata": {},
   "outputs": [
    {
     "name": "stdout",
     "output_type": "stream",
     "text": [
      "IMAGE SAVING DONE!\n"
     ]
    }
   ],
   "source": [
    "files = os.listdir(images_path)\n",
    "\n",
    "mask = Mask(\n",
    "    file_info=frame_info,\n",
    "    amount_of_frames=2,\n",
    "    images_files_array=files,\n",
    "    videos_path=images_path,\n",
    ")\n",
    "\n",
    "#mask.generate_masks(action=\"show\")\n",
    "mask.generate_masks(action=\"save\")"
   ]
  },
  {
   "cell_type": "markdown",
   "metadata": {},
   "source": [
    "# Heatmap Generation"
   ]
  },
  {
   "cell_type": "code",
   "execution_count": 7,
   "metadata": {},
   "outputs": [
    {
     "data": {
      "image/png": "[encoded data removed]",
      "text/plain": [
       "<Figure size 2000x2000 with 5 Axes>"
      ]
     },
     "metadata": {},
     "output_type": "display_data"
    }
   ],
   "source": [
    "heatmap = HeatmapGeneration(frame_info=frame_info)\n",
    "heatmap.heatmap(distribution='Gaussian')"
   ]
  }
 ],
 "metadata": {
  "kernelspec": {
   "display_name": "Python 3",
   "language": "python",
   "name": "python3"
  },
  "language_info": {
   "codemirror_mode": {
    "name": "ipython",
    "version": 3
   },
   "file_extension": ".py",
   "mimetype": "text/x-python",
   "name": "python",
   "nbconvert_exporter": "python",
   "pygments_lexer": "ipython3",
   "version": "3.8.10"
  }
 },
 "nbformat": 4,
 "nbformat_minor": 2
}
