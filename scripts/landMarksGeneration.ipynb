{
 "cells": [
  {
   "cell_type": "markdown",
   "metadata": {},
   "source": [
    "# Libraries"
   ]
  },
  {
   "cell_type": "code",
   "execution_count": 1,
   "metadata": {},
   "outputs": [],
   "source": [
    "import cv2\n",
    "import numpy as np\n",
    "import pandas as pd\n",
    "import os\n",
    "import matplotlib.pyplot as plt\n",
    "import pixel_expand\n",
    "from frameExtraction import FrameExtraction\n",
    "from masks import Mask"
   ]
  },
  {
   "cell_type": "markdown",
   "metadata": {},
   "source": [
    "# Paths"
   ]
  },
  {
   "cell_type": "code",
   "execution_count": 2,
   "metadata": {},
   "outputs": [],
   "source": [
    "videos_csv = '../EchoNet-Dynamic/VolumeTracings.csv'\n",
    "images_csv = '../EchoNet-Dynamic/images_info.csv'\n",
    "images_path = '../EchoNet-Dynamic/images/'\n",
    "videos_path = '../EchoNet-Dynamic/Videos/'\n",
    "masks_path = '../EchoNet-Dynamic/masked/'"
   ]
  },
  {
   "cell_type": "markdown",
   "metadata": {},
   "source": [
    "# Save Frames"
   ]
  },
  {
   "cell_type": "code",
   "execution_count": 3,
   "metadata": {},
   "outputs": [
    {
     "data": {
      "text/html": [
       "<div>\n",
       "<style scoped>\n",
       "    .dataframe tbody tr th:only-of-type {\n",
       "        vertical-align: middle;\n",
       "    }\n",
       "\n",
       "    .dataframe tbody tr th {\n",
       "        vertical-align: top;\n",
       "    }\n",
       "\n",
       "    .dataframe thead th {\n",
       "        text-align: right;\n",
       "    }\n",
       "</style>\n",
       "<table border=\"1\" class=\"dataframe\">\n",
       "  <thead>\n",
       "    <tr style=\"text-align: right;\">\n",
       "      <th></th>\n",
       "      <th>FileName</th>\n",
       "      <th>X1</th>\n",
       "      <th>Y1</th>\n",
       "      <th>X2</th>\n",
       "      <th>Y2</th>\n",
       "      <th>Frame</th>\n",
       "    </tr>\n",
       "  </thead>\n",
       "  <tbody>\n",
       "    <tr>\n",
       "      <th>0</th>\n",
       "      <td>0X100009310A3BD7FC.avi</td>\n",
       "      <td>51.260417</td>\n",
       "      <td>15.348958</td>\n",
       "      <td>64.932292</td>\n",
       "      <td>69.125000</td>\n",
       "      <td>46</td>\n",
       "    </tr>\n",
       "    <tr>\n",
       "      <th>1</th>\n",
       "      <td>0X100009310A3BD7FC.avi</td>\n",
       "      <td>50.037611</td>\n",
       "      <td>17.167841</td>\n",
       "      <td>53.367222</td>\n",
       "      <td>16.321330</td>\n",
       "      <td>46</td>\n",
       "    </tr>\n",
       "    <tr>\n",
       "      <th>2</th>\n",
       "      <td>0X100009310A3BD7FC.avi</td>\n",
       "      <td>49.157378</td>\n",
       "      <td>20.407629</td>\n",
       "      <td>57.090549</td>\n",
       "      <td>18.390722</td>\n",
       "      <td>46</td>\n",
       "    </tr>\n",
       "    <tr>\n",
       "      <th>3</th>\n",
       "      <td>0X100009310A3BD7FC.avi</td>\n",
       "      <td>48.538173</td>\n",
       "      <td>23.581055</td>\n",
       "      <td>59.997339</td>\n",
       "      <td>20.667707</td>\n",
       "      <td>46</td>\n",
       "    </tr>\n",
       "    <tr>\n",
       "      <th>4</th>\n",
       "      <td>0X100009310A3BD7FC.avi</td>\n",
       "      <td>47.918968</td>\n",
       "      <td>26.754480</td>\n",
       "      <td>62.904129</td>\n",
       "      <td>22.944693</td>\n",
       "      <td>46</td>\n",
       "    </tr>\n",
       "  </tbody>\n",
       "</table>\n",
       "</div>"
      ],
      "text/plain": [
       "                 FileName         X1         Y1         X2         Y2  Frame\n",
       "0  0X100009310A3BD7FC.avi  51.260417  15.348958  64.932292  69.125000     46\n",
       "1  0X100009310A3BD7FC.avi  50.037611  17.167841  53.367222  16.321330     46\n",
       "2  0X100009310A3BD7FC.avi  49.157378  20.407629  57.090549  18.390722     46\n",
       "3  0X100009310A3BD7FC.avi  48.538173  23.581055  59.997339  20.667707     46\n",
       "4  0X100009310A3BD7FC.avi  47.918968  26.754480  62.904129  22.944693     46"
      ]
     },
     "execution_count": 3,
     "metadata": {},
     "output_type": "execute_result"
    }
   ],
   "source": [
    "video_info = pd.read_csv(videos_csv)\n",
    "video_info.head()"
   ]
  },
  {
   "cell_type": "code",
   "execution_count": 4,
   "metadata": {},
   "outputs": [
    {
     "name": "stdout",
     "output_type": "stream",
     "text": [
      "¡Straction Done!\n",
      "Path images:  ../EchoNet-Dynamic/images/\n",
      "Path df:  ../EchoNet-Dynamic/images_info.csv\n"
     ]
    }
   ],
   "source": [
    "Extraction = FrameExtraction(video_info=video_info)\n",
    "Extraction.save_images()"
   ]
  },
  {
   "cell_type": "code",
   "execution_count": 5,
   "metadata": {},
   "outputs": [
    {
     "data": {
      "text/html": [
       "<div>\n",
       "<style scoped>\n",
       "    .dataframe tbody tr th:only-of-type {\n",
       "        vertical-align: middle;\n",
       "    }\n",
       "\n",
       "    .dataframe tbody tr th {\n",
       "        vertical-align: top;\n",
       "    }\n",
       "\n",
       "    .dataframe thead th {\n",
       "        text-align: right;\n",
       "    }\n",
       "</style>\n",
       "<table border=\"1\" class=\"dataframe\">\n",
       "  <thead>\n",
       "    <tr style=\"text-align: right;\">\n",
       "      <th></th>\n",
       "      <th>File</th>\n",
       "      <th>X</th>\n",
       "      <th>Y</th>\n",
       "    </tr>\n",
       "  </thead>\n",
       "  <tbody>\n",
       "    <tr>\n",
       "      <th>0</th>\n",
       "      <td>0X7C076CFBDD1CB990_40.jpeg</td>\n",
       "      <td>58</td>\n",
       "      <td>16</td>\n",
       "    </tr>\n",
       "    <tr>\n",
       "      <th>1</th>\n",
       "      <td>0X7C076CFBDD1CB990_40.jpeg</td>\n",
       "      <td>56</td>\n",
       "      <td>18</td>\n",
       "    </tr>\n",
       "    <tr>\n",
       "      <th>2</th>\n",
       "      <td>0X7C076CFBDD1CB990_40.jpeg</td>\n",
       "      <td>54</td>\n",
       "      <td>22</td>\n",
       "    </tr>\n",
       "    <tr>\n",
       "      <th>3</th>\n",
       "      <td>0X7C076CFBDD1CB990_40.jpeg</td>\n",
       "      <td>53</td>\n",
       "      <td>25</td>\n",
       "    </tr>\n",
       "    <tr>\n",
       "      <th>4</th>\n",
       "      <td>0X7C076CFBDD1CB990_40.jpeg</td>\n",
       "      <td>53</td>\n",
       "      <td>29</td>\n",
       "    </tr>\n",
       "    <tr>\n",
       "      <th>...</th>\n",
       "      <td>...</td>\n",
       "      <td>...</td>\n",
       "      <td>...</td>\n",
       "    </tr>\n",
       "    <tr>\n",
       "      <th>163</th>\n",
       "      <td>0X535B7884988ACFBC_79.jpeg</td>\n",
       "      <td>73</td>\n",
       "      <td>51</td>\n",
       "    </tr>\n",
       "    <tr>\n",
       "      <th>164</th>\n",
       "      <td>0X535B7884988ACFBC_79.jpeg</td>\n",
       "      <td>73</td>\n",
       "      <td>53</td>\n",
       "    </tr>\n",
       "    <tr>\n",
       "      <th>165</th>\n",
       "      <td>0X535B7884988ACFBC_79.jpeg</td>\n",
       "      <td>73</td>\n",
       "      <td>56</td>\n",
       "    </tr>\n",
       "    <tr>\n",
       "      <th>166</th>\n",
       "      <td>0X535B7884988ACFBC_79.jpeg</td>\n",
       "      <td>73</td>\n",
       "      <td>58</td>\n",
       "    </tr>\n",
       "    <tr>\n",
       "      <th>167</th>\n",
       "      <td>0X535B7884988ACFBC_79.jpeg</td>\n",
       "      <td>74</td>\n",
       "      <td>61</td>\n",
       "    </tr>\n",
       "  </tbody>\n",
       "</table>\n",
       "<p>168 rows × 3 columns</p>\n",
       "</div>"
      ],
      "text/plain": [
       "                           File   X   Y\n",
       "0    0X7C076CFBDD1CB990_40.jpeg  58  16\n",
       "1    0X7C076CFBDD1CB990_40.jpeg  56  18\n",
       "2    0X7C076CFBDD1CB990_40.jpeg  54  22\n",
       "3    0X7C076CFBDD1CB990_40.jpeg  53  25\n",
       "4    0X7C076CFBDD1CB990_40.jpeg  53  29\n",
       "..                          ...  ..  ..\n",
       "163  0X535B7884988ACFBC_79.jpeg  73  51\n",
       "164  0X535B7884988ACFBC_79.jpeg  73  53\n",
       "165  0X535B7884988ACFBC_79.jpeg  73  56\n",
       "166  0X535B7884988ACFBC_79.jpeg  73  58\n",
       "167  0X535B7884988ACFBC_79.jpeg  74  61\n",
       "\n",
       "[168 rows x 3 columns]"
      ]
     },
     "execution_count": 5,
     "metadata": {},
     "output_type": "execute_result"
    }
   ],
   "source": [
    "frame_info = pd.read_csv(images_csv)\n",
    "frame_info"
   ]
  },
  {
   "cell_type": "markdown",
   "metadata": {},
   "source": [
    "# Get Masks"
   ]
  },
  {
   "cell_type": "code",
   "execution_count": 6,
   "metadata": {},
   "outputs": [
    {
     "name": "stdout",
     "output_type": "stream",
     "text": [
      "IMAGE SAVING DONE!\n"
     ]
    }
   ],
   "source": [
    "files = os.listdir(images_path)\n",
    "\n",
    "mask = Mask(\n",
    "    file_info=frame_info,\n",
    "    amount_of_frames=2,\n",
    "    images_files_array=files,\n",
    "    videos_path=images_path,\n",
    ")\n",
    "\n",
    "#mask.generate_masks(action=\"show\")\n",
    "mask.generate_masks(action=\"save\")"
   ]
  },
  {
   "cell_type": "markdown",
   "metadata": {},
   "source": [
    "# Channel for each landmark"
   ]
  },
  {
   "cell_type": "code",
   "execution_count": 11,
   "metadata": {},
   "outputs": [
    {
     "name": "stdout",
     "output_type": "stream",
     "text": [
      "[6.4 2. ]\n"
     ]
    },
    {
     "data": {
      "text/plain": [
       "[(0, 0), (12, 1), (11, 2), (9, 4), (0, 3)]"
      ]
     },
     "execution_count": 11,
     "metadata": {},
     "output_type": "execute_result"
    }
   ],
   "source": [
    "landmarks = [(12,1), (11,2), (0,3), (9,4), (0,0)]\n",
    "\n",
    "centroid = np.mean(landmarks, axis=0)\n",
    "\n",
    "print(centroid)\n",
    "\n",
    "\n",
    "x = [coord[0] for coord in landmarks]\n",
    "y = [coord[1] for coord in landmarks]\n",
    "\n",
    "angles = np.arctan2(y - centroid[1], x - centroid[0])\n",
    "\n",
    "sorted_indices = np.argsort(angles)\n",
    "sorted_points = [landmarks[i] for i in sorted_indices]\n",
    "sorted_points"
   ]
  },
  {
   "cell_type": "code",
   "execution_count": 14,
   "metadata": {},
   "outputs": [
    {
     "data": {
      "image/png": "[encoded data removed]",
      "text/plain": [
       "<Figure size 1500x500 with 5 Axes>"
      ]
     },
     "metadata": {},
     "output_type": "display_data"
    }
   ],
   "source": [
    "img_shape = (112, 112, 1)\n",
    "files = pp_img_df['File'].unique()\n",
    "\n",
    "for file in files[:1]:\n",
    "    coor = pp_img_df[pp_img_df.File == file]\n",
    "    puntos = [(int(row['X']), int(row['Y'])) for index, row in coor.iterrows()]\n",
    "    result_img = np.zeros((112,112, len(coor)), dtype=np.uint8)\n",
    "\n",
    "\n",
    "    for i in range(len(puntos)):\n",
    "        img = np.zeros(img_shape, dtype=np.uint8)\n",
    "        img[puntos[i][1], puntos[i][0]] = 1.0\n",
    "        result_img[:,:,i] = img[:,: , 0]\n",
    "\n",
    "    fig, axs = plt.subplots(1, 5, figsize=(15, 5))  # Create 5 subplots for 5 channels\n",
    "    \n",
    "    for i in range(5):\n",
    "        axs[i].imshow(result_img[:, :, i], cmap='gray')  # Assuming grayscale images\n",
    "        axs[i].set_title(f'Channel {i + 1}')\n",
    "\n",
    "    plt.show()"
   ]
  },
  {
   "cell_type": "markdown",
   "metadata": {},
   "source": [
    "# Heatmap Generation"
   ]
  },
  {
   "cell_type": "code",
   "execution_count": null,
   "metadata": {},
   "outputs": [],
   "source": [
    "masks_frames = sa\n",
    "#area_pixel  = pixel_expand.expand_pixel()"
   ]
  },
  {
   "cell_type": "code",
   "execution_count": 10,
   "metadata": {},
   "outputs": [],
   "source": [
    "\n",
    "files = os.listdir(masks_path)\n",
    "kernel = np.ones((3,3), np.uint8)\n",
    "\n",
    "matrix_size = 112\n",
    "center_x = 58\n",
    "center_y = 30\n",
    "x, y = np.meshgrid(np.arange(matrix_size), np.arange(matrix_size))\n",
    "\n",
    "# Calculate the distance from the center point for each cell in the grid\n",
    "distance = np.sqrt((x - center_x)**2 + (y - center_y)**2)\n",
    "\n",
    "# Normalize the distance to the range [0, 1]\n",
    "distance = distance / distance.max()\n",
    "\n",
    "# Invert the distance so that values decrease as you move away from the center\n",
    "heatmap_matrix = 1 - distance\n",
    "\n",
    "name_img = os.path.join(masks_path, files[2])\n",
    "img = cv2.imread(name_img)\n",
    "\n",
    "# Operations on images\n",
    "img_erosion = cv2.erode(img, kernel, iterations=2)\n",
    "img_dilate = cv2.dilate(img, kernel, iterations=2)\n",
    "img_border = cv2.bitwise_xor(img_dilate, img_erosion)\n",
    "_, contour = cv2.threshold(img_border, 200,255, cv2.THRESH_BINARY)\n",
    "contour = contour[:,:,0] / 255.0\n",
    "\n",
    "expanded_pixel = expand_pixel(contour, center_y, center_x, 7)\n",
    "\n",
    "result = expanded_pixel * contour * heatmap_matrix\n",
    "\"\"\" fig, axs = plt.subplots(3)\n",
    "for i in range(3):\n",
    "    axs[i].imshow(contour[:,:,i])\"\"\"\n",
    "\n",
    "\n",
    "\"\"\" plt.imshow(result, cmap='hot', interpolation='nerest')\n",
    "plt.colorbar()\n",
    "plt.scatter(center_x, center_y, c='red')\n",
    "plt.show() \"\"\"\n",
    "\n",
    "cv2.imshow(\"Contour\", img_border)\n",
    "cv2.imshow(\"Contour 2\", img_dilate - img_erosion)\n",
    "cv2.waitKey(0)\n",
    "cv2.destroyAllWindows()\n"
   ]
  },
  {
   "cell_type": "code",
   "execution_count": 10,
   "metadata": {},
   "outputs": [
    {
     "data": {
      "text/plain": [
       "\" plt.imshow(result_image, cmap='hot', interpolation='nearest')\\nplt.colorbar()\\nplt.show() \""
      ]
     },
     "execution_count": 10,
     "metadata": {},
     "output_type": "execute_result"
    }
   ],
   "source": [
    "\n",
    "files = os.listdir(masks_path)\n",
    "kernel = np.ones((3,3), np.uint8)\n",
    "\n",
    "matrix_size = 112\n",
    "center_x = 58\n",
    "center_y = 16\n",
    "x, y = np.meshgrid(np.arange(matrix_size), np.arange(matrix_size))\n",
    "\n",
    "# Calculate the distance from the center point for each cell in the grid\n",
    "distance = np.sqrt((x - center_x)**2 + (y - center_y)**2)\n",
    "\n",
    "# Normalize the distance to the range [0, 1]\n",
    "distance = distance / distance.max()\n",
    "\n",
    "# Invert the distance so that values decrease as you move away from the center\n",
    "heatmap_matrix = 1 - distance\n",
    "\n",
    "name_img = os.path.join(masks_path, file)\n",
    "img = cv2.imread(name_img)\n",
    "\n",
    "# Operations on images\n",
    "img_erosion = cv2.erode(img, kernel, iterations=2)\n",
    "img_dilate = cv2.dilate(img, kernel, iterations=2)\n",
    "img_border = cv2.bitwise_xor(img_dilate, img_erosion)\n",
    "_, contour = cv2.threshold(img_border, 200,255, cv2.THRESH_BINARY)\n",
    "\n",
    "img_binary = img_binary[:, :, 0] / 255.0\n",
    "image_final = (heatmap_matrix * img_binary)\n",
    "#expanded_pixel = expand_pixel(image_final, center_x, center_y, 7)\n",
    "#image_final = cv2.bitwise_and(image_final, expanded_pixel)\n",
    "\n",
    "#result_image = image_final * expanded_pixel\n",
    "#   np.savetxt('../EchoNet-Dynamic/image.txt', image_final, fmt='%d', delimiter=' ')\n",
    "\n",
    "\"\"\" plt.imshow(result_image, cmap='hot', interpolation='nearest')\n",
    "plt.colorbar()\n",
    "plt.show() \"\"\""
   ]
  },
  {
   "cell_type": "code",
   "execution_count": 31,
   "metadata": {},
   "outputs": [
    {
     "data": {
      "text/plain": [
       "<matplotlib.image.AxesImage at 0x7fcd39813400>"
      ]
     },
     "execution_count": 31,
     "metadata": {},
     "output_type": "execute_result"
    },
    {
     "data": {
      "image/png": "[encoded data removed]",
      "text/plain": [
       "<Figure size 640x480 with 1 Axes>"
      ]
     },
     "metadata": {},
     "output_type": "display_data"
    }
   ],
   "source": [
    "result = expanded_pixel * heatmap_matrix\n",
    "plt.imshow(result, cmap='hot', interpolation='nearest')"
   ]
  },
  {
   "cell_type": "code",
   "execution_count": 28,
   "metadata": {
    "notebookRunGroups": {
     "groupValue": "2"
    }
   },
   "outputs": [
    {
     "data": {
      "image/png": "[encoded data removed]",
      "text/plain": [
       "<Figure size 640x480 with 2 Axes>"
      ]
     },
     "metadata": {},
     "output_type": "display_data"
    }
   ],
   "source": [
    "import numpy as np\n",
    "import matplotlib.pyplot as plt\n",
    "\n",
    "# Define the size of the matrix\n",
    "matrix_size = 112\n",
    "\n",
    "# Define the center point (where values are highest)\n",
    "center_x = 58\n",
    "center_y = 16\n",
    "\n",
    "# Create a grid of coordinates\n",
    "x, y = np.meshgrid(np.arange(matrix_size), np.arange(matrix_size))\n",
    "\n",
    "# Calculate the distance from the center point for each cell in the grid\n",
    "distance = np.sqrt((x - center_x)**2 + (y - center_y)**2)\n",
    "\n",
    "# Normalize the distance to the range [0, 1]\n",
    "distance = distance / distance.max()\n",
    "\n",
    "# Invert the distance so that values decrease as you move away from the center\n",
    "heatmap_matrix = 1 - distance\n",
    "\n",
    "# Display the heatmap\n",
    "plt.imshow(heatmap_matrix, cmap='hot', interpolation='nearest')\n",
    "plt.colorbar()\n",
    "plt.show()\n"
   ]
  },
  {
   "cell_type": "code",
   "execution_count": 33,
   "metadata": {},
   "outputs": [
    {
     "name": "stdout",
     "output_type": "stream",
     "text": [
      "The maximum value is 9 at coordinates (1, 1)\n"
     ]
    }
   ],
   "source": [
    "import numpy as np\n",
    "\n",
    "# Example matrix\n",
    "matrix = np.array([\n",
    "    [1, 2, 3],\n",
    "    [4, 9, 6],\n",
    "    [7, 8, 5]\n",
    "])\n",
    "\n",
    "# Find the coordinates of the maximum value\n",
    "max_coordinates = np.unravel_index(np.argmax(matrix), matrix.shape)\n",
    "\n",
    "# Print the result\n",
    "print(f\"The maximum value is {matrix[max_coordinates]} at coordinates {max_coordinates}\")\n"
   ]
  }
 ],
 "metadata": {
  "kernelspec": {
   "display_name": "Python 3",
   "language": "python",
   "name": "python3"
  },
  "language_info": {
   "codemirror_mode": {
    "name": "ipython",
    "version": 3
   },
   "file_extension": ".py",
   "mimetype": "text/x-python",
   "name": "python",
   "nbconvert_exporter": "python",
   "pygments_lexer": "ipython3",
   "version": "3.8.10"
  }
 },
 "nbformat": 4,
 "nbformat_minor": 2
}
