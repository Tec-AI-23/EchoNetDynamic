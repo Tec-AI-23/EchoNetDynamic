{
 "cells": [
  {
   "cell_type": "code",
   "execution_count": 20,
   "metadata": {},
   "outputs": [],
   "source": [
    "import torch\n",
    "import torch.nn.functional as F"
   ]
  },
  {
   "cell_type": "code",
   "execution_count": 44,
   "metadata": {},
   "outputs": [
    {
     "name": "stdout",
     "output_type": "stream",
     "text": [
      "Cross-Entropy Loss: 0.8538902997970581\n"
     ]
    }
   ],
   "source": [
    "# Assuming your neural network output is stored in 'output' and target in 'target'\n",
    "output = torch.tensor([[0.2, 0.3, 0.5], [0.7, 0.1, 0.2]])\n",
    "target = torch.tensor([[0.0, 1.0, 0.0], [0.0, 0.0, 1.0]])\n",
    "target = torch.tensor([[1.0, 0.0, 0.0], [0.0, 1.0, 0.0]])\n",
    "target = torch.tensor([[0.0, 0.0, 1.0], [1.0, 0.0, 0.0]])\n",
    "\n",
    "\n",
    "# Using cross-entropy loss\n",
    "loss = F.cross_entropy(output, target)\n",
    "\n",
    "print(\"Cross-Entropy Loss:\", loss.item())"
   ]
  },
  {
   "cell_type": "code",
   "execution_count": 45,
   "metadata": {},
   "outputs": [
    {
     "data": {
      "text/plain": [
       "tensor(-0.)"
      ]
     },
     "execution_count": 45,
     "metadata": {},
     "output_type": "execute_result"
    }
   ],
   "source": [
    "y_pred = torch.tensor([100.0])\n",
    "y_real = torch.tensor([1.0])\n",
    "\n",
    "loss_fn = torch.nn.CrossEntropyLoss()\n",
    "loss_fn(y_pred, y_real)"
   ]
  }
 ],
 "metadata": {
  "kernelspec": {
   "display_name": "Python 3",
   "language": "python",
   "name": "python3"
  },
  "language_info": {
   "codemirror_mode": {
    "name": "ipython",
    "version": 3
   },
   "file_extension": ".py",
   "mimetype": "text/x-python",
   "name": "python",
   "nbconvert_exporter": "python",
   "pygments_lexer": "ipython3",
   "version": "3.11.3"
  }
 },
 "nbformat": 4,
 "nbformat_minor": 2
}
