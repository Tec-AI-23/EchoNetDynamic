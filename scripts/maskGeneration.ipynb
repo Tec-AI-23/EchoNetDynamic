{
 "cells": [
  {
   "cell_type": "code",
   "execution_count": 1,
   "metadata": {},
   "outputs": [],
   "source": [
    "import os\n",
    "import pandas as pd\n",
    "from masks import Mask"
   ]
  },
  {
   "cell_type": "code",
   "execution_count": 2,
   "metadata": {},
   "outputs": [
    {
     "data": {
      "text/html": [
       "<div>\n",
       "<style scoped>\n",
       "    .dataframe tbody tr th:only-of-type {\n",
       "        vertical-align: middle;\n",
       "    }\n",
       "\n",
       "    .dataframe tbody tr th {\n",
       "        vertical-align: top;\n",
       "    }\n",
       "\n",
       "    .dataframe thead th {\n",
       "        text-align: right;\n",
       "    }\n",
       "</style>\n",
       "<table border=\"1\" class=\"dataframe\">\n",
       "  <thead>\n",
       "    <tr style=\"text-align: right;\">\n",
       "      <th></th>\n",
       "      <th>FileName</th>\n",
       "      <th>X1</th>\n",
       "      <th>Y1</th>\n",
       "      <th>X2</th>\n",
       "      <th>Y2</th>\n",
       "      <th>Frame</th>\n",
       "    </tr>\n",
       "  </thead>\n",
       "  <tbody>\n",
       "    <tr>\n",
       "      <th>0</th>\n",
       "      <td>0X100009310A3BD7FC.avi</td>\n",
       "      <td>51.260417</td>\n",
       "      <td>15.348958</td>\n",
       "      <td>64.932292</td>\n",
       "      <td>69.125000</td>\n",
       "      <td>46</td>\n",
       "    </tr>\n",
       "    <tr>\n",
       "      <th>1</th>\n",
       "      <td>0X100009310A3BD7FC.avi</td>\n",
       "      <td>50.037611</td>\n",
       "      <td>17.167841</td>\n",
       "      <td>53.367222</td>\n",
       "      <td>16.321330</td>\n",
       "      <td>46</td>\n",
       "    </tr>\n",
       "    <tr>\n",
       "      <th>2</th>\n",
       "      <td>0X100009310A3BD7FC.avi</td>\n",
       "      <td>49.157378</td>\n",
       "      <td>20.407629</td>\n",
       "      <td>57.090549</td>\n",
       "      <td>18.390722</td>\n",
       "      <td>46</td>\n",
       "    </tr>\n",
       "    <tr>\n",
       "      <th>3</th>\n",
       "      <td>0X100009310A3BD7FC.avi</td>\n",
       "      <td>48.538173</td>\n",
       "      <td>23.581055</td>\n",
       "      <td>59.997339</td>\n",
       "      <td>20.667707</td>\n",
       "      <td>46</td>\n",
       "    </tr>\n",
       "    <tr>\n",
       "      <th>4</th>\n",
       "      <td>0X100009310A3BD7FC.avi</td>\n",
       "      <td>47.918968</td>\n",
       "      <td>26.754480</td>\n",
       "      <td>62.904129</td>\n",
       "      <td>22.944693</td>\n",
       "      <td>46</td>\n",
       "    </tr>\n",
       "  </tbody>\n",
       "</table>\n",
       "</div>"
      ],
      "text/plain": [
       "                 FileName         X1         Y1         X2         Y2  Frame\n",
       "0  0X100009310A3BD7FC.avi  51.260417  15.348958  64.932292  69.125000     46\n",
       "1  0X100009310A3BD7FC.avi  50.037611  17.167841  53.367222  16.321330     46\n",
       "2  0X100009310A3BD7FC.avi  49.157378  20.407629  57.090549  18.390722     46\n",
       "3  0X100009310A3BD7FC.avi  48.538173  23.581055  59.997339  20.667707     46\n",
       "4  0X100009310A3BD7FC.avi  47.918968  26.754480  62.904129  22.944693     46"
      ]
     },
     "execution_count": 2,
     "metadata": {},
     "output_type": "execute_result"
    }
   ],
   "source": [
    "video_info = pd.read_csv(\"../EchoNet-Dynamic/VolumeTracings.csv\")\n",
    "video_info.head()"
   ]
  },
  {
   "cell_type": "code",
   "execution_count": 3,
   "metadata": {},
   "outputs": [],
   "source": [
    "path = \"../EchoNet-Dynamic/Videos/\"\n",
    "files = os.listdir(path)"
   ]
  },
  {
   "cell_type": "code",
   "execution_count": 4,
   "metadata": {},
   "outputs": [],
   "source": [
    "AMOUNT_OF_IMAGES = 1"
   ]
  },
  {
   "cell_type": "code",
   "execution_count": 5,
   "metadata": {},
   "outputs": [
    {
     "data": {
      "image/jpeg": "[encoded data removed]",
      "text/plain": [
       "<IPython.core.display.Image object>"
      ]
     },
     "metadata": {},
     "output_type": "display_data"
    },
    {
     "data": {
      "image/jpeg": "[encoded data removed]",
      "text/plain": [
       "<IPython.core.display.Image object>"
      ]
     },
     "metadata": {},
     "output_type": "display_data"
    },
    {
     "name": "stdout",
     "output_type": "stream",
     "text": [
      "IMAGE SAVING DONE!\n"
     ]
    }
   ],
   "source": [
    "mask = Mask(\n",
    "    video_info=video_info,\n",
    "    amount_of_frames=2,\n",
    "    images_files_array=files,\n",
    "    videos_path=path,\n",
    ")\n",
    "\n",
    "mask.generate_masks(action=\"show\")\n",
    "mask.generate_masks(action=\"save\")"
   ]
  }
 ],
 "metadata": {
  "kernelspec": {
   "display_name": "Python 3",
   "language": "python",
   "name": "python3"
  },
  "language_info": {
   "codemirror_mode": {
    "name": "ipython",
    "version": 3
   },
   "file_extension": ".py",
   "mimetype": "text/x-python",
   "name": "python",
   "nbconvert_exporter": "python",
   "pygments_lexer": "ipython3",
   "version": "3.8.10"
  },
  "orig_nbformat": 4
 },
 "nbformat": 4,
 "nbformat_minor": 2
}
